{
 "cells": [
  {
   "cell_type": "code",
   "execution_count": 1,
   "metadata": {},
   "outputs": [],
   "source": [
    "import numpy as np\n",
    "import pandas as pd\n",
    "import matplotlib.pyplot as plt"
   ]
  },
  {
   "cell_type": "code",
   "execution_count": 2,
   "metadata": {},
   "outputs": [
    {
     "data": {
      "text/html": [
       "<div>\n",
       "<style scoped>\n",
       "    .dataframe tbody tr th:only-of-type {\n",
       "        vertical-align: middle;\n",
       "    }\n",
       "\n",
       "    .dataframe tbody tr th {\n",
       "        vertical-align: top;\n",
       "    }\n",
       "\n",
       "    .dataframe thead th {\n",
       "        text-align: right;\n",
       "    }\n",
       "</style>\n",
       "<table border=\"1\" class=\"dataframe\">\n",
       "  <thead>\n",
       "    <tr style=\"text-align: right;\">\n",
       "      <th></th>\n",
       "      <th>growth_rate_per_hr</th>\n",
       "      <th>media_details</th>\n",
       "      <th>avg_cell_length_um</th>\n",
       "      <th>avg_cell_width_um</th>\n",
       "      <th>estim_avg_cell_volume_um3</th>\n",
       "      <th>nutrient_type</th>\n",
       "      <th>cm_type</th>\n",
       "      <th>useless_type</th>\n",
       "      <th>cm_uM</th>\n",
       "      <th>RNA_ug_per_OD600</th>\n",
       "      <th>prot_ug_per_OD</th>\n",
       "      <th>source</th>\n",
       "      <th>RNA_prot_ratio</th>\n",
       "      <th>source_cell_size</th>\n",
       "      <th>norm_cell_size</th>\n",
       "    </tr>\n",
       "  </thead>\n",
       "  <tbody>\n",
       "    <tr>\n",
       "      <th>0</th>\n",
       "      <td>0.42</td>\n",
       "      <td>Mannose</td>\n",
       "      <td>2.37</td>\n",
       "      <td>0.91</td>\n",
       "      <td>1.36</td>\n",
       "      <td>15</td>\n",
       "      <td>0</td>\n",
       "      <td>0</td>\n",
       "      <td>0</td>\n",
       "      <td>66</td>\n",
       "      <td>391</td>\n",
       "      <td>Basan 2015</td>\n",
       "      <td>0.168798</td>\n",
       "      <td>1.36</td>\n",
       "      <td>1.36</td>\n",
       "    </tr>\n",
       "    <tr>\n",
       "      <th>1</th>\n",
       "      <td>0.47</td>\n",
       "      <td>Acetate</td>\n",
       "      <td>2.51</td>\n",
       "      <td>0.98</td>\n",
       "      <td>1.67</td>\n",
       "      <td>14</td>\n",
       "      <td>0</td>\n",
       "      <td>0</td>\n",
       "      <td>0</td>\n",
       "      <td>65</td>\n",
       "      <td>378</td>\n",
       "      <td>Basan 2015</td>\n",
       "      <td>0.171958</td>\n",
       "      <td>1.67</td>\n",
       "      <td>1.67</td>\n",
       "    </tr>\n",
       "    <tr>\n",
       "      <th>2</th>\n",
       "      <td>0.70</td>\n",
       "      <td>Glycerol</td>\n",
       "      <td>2.84</td>\n",
       "      <td>0.92</td>\n",
       "      <td>1.70</td>\n",
       "      <td>13</td>\n",
       "      <td>0</td>\n",
       "      <td>0</td>\n",
       "      <td>0</td>\n",
       "      <td>83</td>\n",
       "      <td>355</td>\n",
       "      <td>Basan 2015</td>\n",
       "      <td>0.233803</td>\n",
       "      <td>1.70</td>\n",
       "      <td>1.70</td>\n",
       "    </tr>\n",
       "    <tr>\n",
       "      <th>3</th>\n",
       "      <td>0.98</td>\n",
       "      <td>Glucose</td>\n",
       "      <td>2.95</td>\n",
       "      <td>1.07</td>\n",
       "      <td>2.32</td>\n",
       "      <td>12</td>\n",
       "      <td>0</td>\n",
       "      <td>0</td>\n",
       "      <td>0</td>\n",
       "      <td>98</td>\n",
       "      <td>333</td>\n",
       "      <td>Basan 2015</td>\n",
       "      <td>0.294294</td>\n",
       "      <td>2.32</td>\n",
       "      <td>2.32</td>\n",
       "    </tr>\n",
       "    <tr>\n",
       "      <th>4</th>\n",
       "      <td>1.29</td>\n",
       "      <td>Glucose + cAA</td>\n",
       "      <td>3.29</td>\n",
       "      <td>1.21</td>\n",
       "      <td>3.33</td>\n",
       "      <td>11</td>\n",
       "      <td>0</td>\n",
       "      <td>0</td>\n",
       "      <td>0</td>\n",
       "      <td>115</td>\n",
       "      <td>317</td>\n",
       "      <td>Basan 2015</td>\n",
       "      <td>0.362776</td>\n",
       "      <td>3.33</td>\n",
       "      <td>3.33</td>\n",
       "    </tr>\n",
       "  </tbody>\n",
       "</table>\n",
       "</div>"
      ],
      "text/plain": [
       "   growth_rate_per_hr  media_details  avg_cell_length_um  avg_cell_width_um  \\\n",
       "0                0.42        Mannose                2.37               0.91   \n",
       "1                0.47        Acetate                2.51               0.98   \n",
       "2                0.70       Glycerol                2.84               0.92   \n",
       "3                0.98        Glucose                2.95               1.07   \n",
       "4                1.29  Glucose + cAA                3.29               1.21   \n",
       "\n",
       "   estim_avg_cell_volume_um3  nutrient_type  cm_type  useless_type  cm_uM  \\\n",
       "0                       1.36             15        0             0      0   \n",
       "1                       1.67             14        0             0      0   \n",
       "2                       1.70             13        0             0      0   \n",
       "3                       2.32             12        0             0      0   \n",
       "4                       3.33             11        0             0      0   \n",
       "\n",
       "   RNA_ug_per_OD600  prot_ug_per_OD      source  RNA_prot_ratio  \\\n",
       "0                66             391  Basan 2015        0.168798   \n",
       "1                65             378  Basan 2015        0.171958   \n",
       "2                83             355  Basan 2015        0.233803   \n",
       "3                98             333  Basan 2015        0.294294   \n",
       "4               115             317  Basan 2015        0.362776   \n",
       "\n",
       "   source_cell_size  norm_cell_size  \n",
       "0              1.36            1.36  \n",
       "1              1.67            1.67  \n",
       "2              1.70            1.70  \n",
       "3              2.32            2.32  \n",
       "4              3.33            3.33  "
      ]
     },
     "execution_count": 2,
     "metadata": {},
     "output_type": "execute_result"
    }
   ],
   "source": [
    "# basan data as size and ribosome prot frac (via R/P) ratio data for three mods\n",
    "d_b = pd.read_csv('external-data/basan_2015_data.csv')\n",
    "d_b.head()"
   ]
  },
  {
   "cell_type": "code",
   "execution_count": 3,
   "metadata": {},
   "outputs": [],
   "source": [
    "# compute the ribosome proteome fraction based on scott et al. conversion factor\n",
    "d_b['R_P_ratio'] = d_b['RNA_ug_per_OD600'] / d_b['prot_ug_per_OD']\n",
    "d_b['phi_R'] = 0.76 * d_b['R_P_ratio']"
   ]
  },
  {
   "cell_type": "code",
   "execution_count": 4,
   "metadata": {},
   "outputs": [
    {
     "data": {
      "image/png": "[encoded data removed]",
      "text/plain": [
       "<Figure size 432x288 with 1 Axes>"
      ]
     },
     "metadata": {
      "needs_background": "light"
     },
     "output_type": "display_data"
    }
   ],
   "source": [
    "d_nut_only = d_b.query('cm_type == 0 and useless_type == 0').copy()\n",
    "d_cm = d_b.query('cm_type > 0 and useless_type == 0').copy()\n",
    "d_useless = d_b.query('cm_type == 0 and useless_type > 0').copy()\n",
    "\n",
    "for d,c in zip([d_nut_only, d_useless, d_cm],['g', 'r', 'b']):\n",
    "    plt.scatter(d['growth_rate_per_hr'], d['phi_R'], c=c)\n",
    "plt.xlabel('$growth \\, rate\\,\\\\alpha$')\n",
    "plt.ylabel('$\\phi_R$')\n",
    "plt.show()"
   ]
  },
  {
   "cell_type": "code",
   "execution_count": 5,
   "metadata": {},
   "outputs": [
    {
     "data": {
      "image/png": "[encoded data removed]",
      "text/plain": [
       "<Figure size 432x288 with 1 Axes>"
      ]
     },
     "metadata": {
      "needs_background": "light"
     },
     "output_type": "display_data"
    }
   ],
   "source": [
    "for d,c in zip([d_nut_only, d_useless, d_cm],['g', 'r', 'b']):\n",
    "    plt.scatter(d['phi_R'], d['estim_avg_cell_volume_um3'], c=c)\n",
    "plt.ylabel('cell size')\n",
    "plt.xlabel('$\\phi_R$')\n",
    "plt.show()"
   ]
  },
  {
   "cell_type": "code",
   "execution_count": 6,
   "metadata": {},
   "outputs": [
    {
     "data": {
      "image/png": "[encoded data removed]",
      "text/plain": [
       "<Figure size 432x288 with 1 Axes>"
      ]
     },
     "metadata": {
      "needs_background": "light"
     },
     "output_type": "display_data"
    }
   ],
   "source": [
    "for d,c in zip([d_nut_only, d_useless, d_cm],['g', 'r', 'b']):\n",
    "    plt.scatter(d['phi_R'], d['avg_cell_width_um'], c=c)\n",
    "plt.ylabel('cell width')\n",
    "plt.xlabel('$\\phi_R$')\n",
    "plt.show()"
   ]
  },
  {
   "cell_type": "markdown",
   "metadata": {},
   "source": [
    "It is clear from the two plots above that the growth rate $\\alpha$ alone or $\\phi_R$ alone cannot determine cell size !\n",
    "\n",
    "The relationship between $\\phi_R$ and $\\alpha$ is the same for nutrient and useless modulation, yet cell size don't go in the same direction."
   ]
  },
  {
   "cell_type": "markdown",
   "metadata": {},
   "source": [
    "Let's now focus on the difference in size for the nutrient vs the useless modulation.\n",
    "\n",
    "For the same growth rate, as we said, phi_R is the same. But phi_E should be different !\n",
    "\n",
    "In fact, for a fixed media quality, phi_E is expected to decrease in proportion to the growth rate when useless modulation is applied (because the growth rate is the product of phi_E and the nutrient quality, which does not change)."
   ]
  },
  {
   "cell_type": "code",
   "execution_count": 7,
   "metadata": {},
   "outputs": [],
   "source": [
    "phi_R_max = 0.5\n",
    "d_nut_only['estim_phi_E'] = phi_R_max - d_nut_only['phi_R']\n",
    "\n",
    "d_useless['estim_phi_E'] = np.nan\n",
    "for ir,r in d_useless.iterrows():\n",
    "    nut_type = r['nutrient_type']\n",
    "    d_this_nut = d_nut_only.query(f'nutrient_type == {nut_type}')\n",
    "    d_useless.at[ir,'estim_phi_E'] = d_this_nut['estim_phi_E'] * r['growth_rate_per_hr'] / d_this_nut['growth_rate_per_hr']\n",
    "    \n",
    "    \n",
    "d_cm['estim_phi_E'] = np.nan\n",
    "for ir,r in d_cm.iterrows():\n",
    "    nut_type = r['nutrient_type']\n",
    "    d_this_nut = d_nut_only.query(f'nutrient_type == {nut_type}')\n",
    "    d_cm.at[ir,'estim_phi_E'] = d_this_nut['estim_phi_E'] * r['growth_rate_per_hr'] / d_this_nut['growth_rate_per_hr']    "
   ]
  },
  {
   "cell_type": "code",
   "execution_count": 8,
   "metadata": {},
   "outputs": [
    {
     "data": {
      "image/png": "[encoded data removed]",
      "text/plain": [
       "<Figure size 432x288 with 1 Axes>"
      ]
     },
     "metadata": {
      "needs_background": "light"
     },
     "output_type": "display_data"
    }
   ],
   "source": [
    "for d,c in zip([d_nut_only, d_useless, d_cm],['g', 'r', 'b']):\n",
    "    plt.scatter(d['growth_rate_per_hr'], d['estim_phi_E'], c=c)\n",
    "plt.xlabel('$growth \\, rate\\,\\\\alpha$')\n",
    "plt.ylabel('$estim\\,\\phi_E$')\n",
    "plt.show()"
   ]
  },
  {
   "cell_type": "code",
   "execution_count": 9,
   "metadata": {},
   "outputs": [
    {
     "data": {
      "image/png": "[encoded data removed]",
      "text/plain": [
       "<Figure size 432x288 with 1 Axes>"
      ]
     },
     "metadata": {
      "needs_background": "light"
     },
     "output_type": "display_data"
    }
   ],
   "source": [
    "for d,c in zip([d_nut_only, d_useless, d_cm],['g', 'r', 'b']):\n",
    "    plt.scatter(d['estim_phi_E'], d['estim_avg_cell_volume_um3'], c=c)\n",
    "plt.ylabel('cell size')\n",
    "plt.xlabel('$estim\\,\\phi_E$')\n",
    "plt.show()"
   ]
  },
  {
   "cell_type": "code",
   "execution_count": 10,
   "metadata": {},
   "outputs": [
    {
     "data": {
      "image/png": "[encoded data removed]",
      "text/plain": [
       "<Figure size 432x288 with 1 Axes>"
      ]
     },
     "metadata": {
      "needs_background": "light"
     },
     "output_type": "display_data"
    }
   ],
   "source": [
    "for d,c in zip([d_nut_only, d_useless, d_cm],['g', 'r', 'b']):\n",
    "    plt.scatter(d['estim_phi_E'], d['avg_cell_width_um'], c=c)\n",
    "plt.ylabel('cell width')\n",
    "plt.xlabel('$estim\\,\\phi_E$')\n",
    "plt.show()"
   ]
  },
  {
   "cell_type": "code",
   "execution_count": 11,
   "metadata": {},
   "outputs": [
    {
     "data": {
      "image/png": "[encoded data removed]",
      "text/plain": [
       "<Figure size 432x288 with 1 Axes>"
      ]
     },
     "metadata": {
      "needs_background": "light"
     },
     "output_type": "display_data"
    }
   ],
   "source": [
    "for d,c in zip([d_nut_only, d_useless, d_cm],['g', 'r', 'b']):\n",
    "    plt.scatter(1/d['estim_phi_E'], d['estim_avg_cell_volume_um3'], c=c)\n",
    "plt.ylabel('cell size')\n",
    "plt.xlabel('1 / $estim\\,\\phi_E$')\n",
    "plt.show()"
   ]
  },
  {
   "cell_type": "code",
   "execution_count": 12,
   "metadata": {},
   "outputs": [],
   "source": [
    "for d in [d_nut_only, d_useless, d_cm]:\n",
    "    d['translation_efficiency'] = d['growth_rate_per_hr'] / d['phi_R']"
   ]
  },
  {
   "cell_type": "code",
   "execution_count": 13,
   "metadata": {},
   "outputs": [
    {
     "data": {
      "image/png": "[encoded data removed]",
      "text/plain": [
       "<Figure size 432x288 with 1 Axes>"
      ]
     },
     "metadata": {
      "needs_background": "light"
     },
     "output_type": "display_data"
    }
   ],
   "source": [
    "for d,c in zip([d_nut_only, d_useless, d_cm],['g', 'r', 'b']):\n",
    "    plt.scatter(d['translation_efficiency'],\n",
    "                d['estim_avg_cell_volume_um3'], c=c)\n",
    "plt.show()"
   ]
  },
  {
   "cell_type": "code",
   "execution_count": 14,
   "metadata": {},
   "outputs": [
    {
     "data": {
      "image/png": "[encoded data removed]",
      "text/plain": [
       "<Figure size 432x288 with 1 Axes>"
      ]
     },
     "metadata": {
      "needs_background": "light"
     },
     "output_type": "display_data"
    }
   ],
   "source": [
    "for d,c in zip([d_nut_only, d_useless, d_cm],['g', 'r', 'b']):\n",
    "    plt.scatter(d['translation_efficiency']/d['estim_phi_E'],\n",
    "                d['estim_avg_cell_volume_um3'], c=c)\n",
    "plt.show()"
   ]
  },
  {
   "cell_type": "code",
   "execution_count": 15,
   "metadata": {},
   "outputs": [
    {
     "data": {
      "image/png": "[encoded data removed]",
      "text/plain": [
       "<Figure size 432x288 with 1 Axes>"
      ]
     },
     "metadata": {
      "needs_background": "light"
     },
     "output_type": "display_data"
    }
   ],
   "source": [
    "for d,c in zip([d_nut_only, d_useless, d_cm],['g', 'r', 'b']):\n",
    "    plt.scatter(np.power(d['translation_efficiency'],2/3)/d['estim_phi_E'],\n",
    "                d['estim_avg_cell_volume_um3'], c=c)\n",
    "plt.show()"
   ]
  },
  {
   "cell_type": "code",
   "execution_count": null,
   "metadata": {},
   "outputs": [],
   "source": []
  }
 ],
 "metadata": {
  "kernelspec": {
   "display_name": "Python 3",
   "language": "python",
   "name": "python3"
  },
  "language_info": {
   "codemirror_mode": {
    "name": "ipython",
    "version": 3
   },
   "file_extension": ".py",
   "mimetype": "text/x-python",
   "name": "python",
   "nbconvert_exporter": "python",
   "pygments_lexer": "ipython3",
   "version": "3.7.3"
  }
 },
 "nbformat": 4,
 "nbformat_minor": 2
}
