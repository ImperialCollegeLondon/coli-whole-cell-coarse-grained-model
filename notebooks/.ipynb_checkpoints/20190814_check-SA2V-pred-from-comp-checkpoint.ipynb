{
 "cells": [
  {
   "cell_type": "code",
   "execution_count": 1,
   "metadata": {},
   "outputs": [],
   "source": [
    "import pandas as pd\n",
    "import seaborn as sns\n",
    "import numpy as np\n",
    "from sklearn.linear_model import LinearRegression\n",
    "import matplotlib.pyplot as plt"
   ]
  },
  {
   "cell_type": "code",
   "execution_count": 2,
   "metadata": {},
   "outputs": [
    {
     "data": {
      "text/html": [
       "<div>\n",
       "<style scoped>\n",
       "    .dataframe tbody tr th:only-of-type {\n",
       "        vertical-align: middle;\n",
       "    }\n",
       "\n",
       "    .dataframe tbody tr th {\n",
       "        vertical-align: top;\n",
       "    }\n",
       "\n",
       "    .dataframe thead th {\n",
       "        text-align: right;\n",
       "    }\n",
       "</style>\n",
       "<table border=\"1\" class=\"dataframe\">\n",
       "  <thead>\n",
       "    <tr style=\"text-align: right;\">\n",
       "      <th></th>\n",
       "      <th>si_jun_excel_raw_number</th>\n",
       "      <th>growth_rate_per_hr</th>\n",
       "      <th>estim_SA_over_V</th>\n",
       "      <th>estim_aspect_ratio</th>\n",
       "      <th>estim_vol_um3</th>\n",
       "      <th>estim_C_plus_D_hrs</th>\n",
       "      <th>nutrient_type</th>\n",
       "      <th>cm_type</th>\n",
       "      <th>useless_type</th>\n",
       "      <th>model_kn</th>\n",
       "      <th>model_kt</th>\n",
       "      <th>model_fU</th>\n",
       "      <th>model_fE</th>\n",
       "      <th>model_fR</th>\n",
       "      <th>model_active_R_frac</th>\n",
       "      <th>model_growth_rate</th>\n",
       "    </tr>\n",
       "  </thead>\n",
       "  <tbody>\n",
       "    <tr>\n",
       "      <th>0</th>\n",
       "      <td>202</td>\n",
       "      <td>1.71</td>\n",
       "      <td>4.306</td>\n",
       "      <td>4.0089</td>\n",
       "      <td>3.40</td>\n",
       "      <td>1.37</td>\n",
       "      <td>7</td>\n",
       "      <td>0</td>\n",
       "      <td>0</td>\n",
       "      <td>6.661873</td>\n",
       "      <td>4.500000</td>\n",
       "      <td>0</td>\n",
       "      <td>0.195080</td>\n",
       "      <td>0.354920</td>\n",
       "      <td>0.813704</td>\n",
       "      <td>1.709999</td>\n",
       "    </tr>\n",
       "    <tr>\n",
       "      <th>1</th>\n",
       "      <td>203</td>\n",
       "      <td>1.63</td>\n",
       "      <td>4.473</td>\n",
       "      <td>3.9774</td>\n",
       "      <td>3.00</td>\n",
       "      <td>1.35</td>\n",
       "      <td>7</td>\n",
       "      <td>1</td>\n",
       "      <td>0</td>\n",
       "      <td>6.661873</td>\n",
       "      <td>4.158184</td>\n",
       "      <td>0</td>\n",
       "      <td>0.185957</td>\n",
       "      <td>0.364043</td>\n",
       "      <td>0.818373</td>\n",
       "      <td>1.630026</td>\n",
       "    </tr>\n",
       "    <tr>\n",
       "      <th>2</th>\n",
       "      <td>204</td>\n",
       "      <td>0.98</td>\n",
       "      <td>4.870</td>\n",
       "      <td>4.1282</td>\n",
       "      <td>2.39</td>\n",
       "      <td>1.88</td>\n",
       "      <td>7</td>\n",
       "      <td>1</td>\n",
       "      <td>0</td>\n",
       "      <td>6.661873</td>\n",
       "      <td>2.001746</td>\n",
       "      <td>0</td>\n",
       "      <td>0.111801</td>\n",
       "      <td>0.438199</td>\n",
       "      <td>0.849110</td>\n",
       "      <td>0.980009</td>\n",
       "    </tr>\n",
       "    <tr>\n",
       "      <th>3</th>\n",
       "      <td>205</td>\n",
       "      <td>0.96</td>\n",
       "      <td>5.107</td>\n",
       "      <td>4.0063</td>\n",
       "      <td>2.02</td>\n",
       "      <td>2.05</td>\n",
       "      <td>7</td>\n",
       "      <td>1</td>\n",
       "      <td>0</td>\n",
       "      <td>6.661873</td>\n",
       "      <td>1.948888</td>\n",
       "      <td>0</td>\n",
       "      <td>0.109517</td>\n",
       "      <td>0.440483</td>\n",
       "      <td>0.849892</td>\n",
       "      <td>0.959988</td>\n",
       "    </tr>\n",
       "    <tr>\n",
       "      <th>4</th>\n",
       "      <td>206</td>\n",
       "      <td>0.78</td>\n",
       "      <td>5.111</td>\n",
       "      <td>3.6121</td>\n",
       "      <td>1.89</td>\n",
       "      <td>2.48</td>\n",
       "      <td>7</td>\n",
       "      <td>1</td>\n",
       "      <td>0</td>\n",
       "      <td>6.661873</td>\n",
       "      <td>1.501142</td>\n",
       "      <td>0</td>\n",
       "      <td>0.088983</td>\n",
       "      <td>0.461017</td>\n",
       "      <td>0.856578</td>\n",
       "      <td>0.779995</td>\n",
       "    </tr>\n",
       "  </tbody>\n",
       "</table>\n",
       "</div>"
      ],
      "text/plain": [
       "   si_jun_excel_raw_number  growth_rate_per_hr  estim_SA_over_V  \\\n",
       "0                      202                1.71            4.306   \n",
       "1                      203                1.63            4.473   \n",
       "2                      204                0.98            4.870   \n",
       "3                      205                0.96            5.107   \n",
       "4                      206                0.78            5.111   \n",
       "\n",
       "   estim_aspect_ratio  estim_vol_um3  estim_C_plus_D_hrs  nutrient_type  \\\n",
       "0              4.0089           3.40                1.37              7   \n",
       "1              3.9774           3.00                1.35              7   \n",
       "2              4.1282           2.39                1.88              7   \n",
       "3              4.0063           2.02                2.05              7   \n",
       "4              3.6121           1.89                2.48              7   \n",
       "\n",
       "   cm_type  useless_type  model_kn  model_kt  model_fU  model_fE  model_fR  \\\n",
       "0        0             0  6.661873  4.500000         0  0.195080  0.354920   \n",
       "1        1             0  6.661873  4.158184         0  0.185957  0.364043   \n",
       "2        1             0  6.661873  2.001746         0  0.111801  0.438199   \n",
       "3        1             0  6.661873  1.948888         0  0.109517  0.440483   \n",
       "4        1             0  6.661873  1.501142         0  0.088983  0.461017   \n",
       "\n",
       "   model_active_R_frac  model_growth_rate  \n",
       "0             0.813704           1.709999  \n",
       "1             0.818373           1.630026  \n",
       "2             0.849110           0.980009  \n",
       "3             0.849892           0.959988  \n",
       "4             0.856578           0.779995  "
      ]
     },
     "execution_count": 2,
     "metadata": {},
     "output_type": "execute_result"
    }
   ],
   "source": [
    "comp_scott = pd.read_csv('../results-data/resXX_scott-2010-model_cell-compositions/si_2017_modulations.csv')\n",
    "comp_scott.head()"
   ]
  },
  {
   "cell_type": "code",
   "execution_count": 3,
   "metadata": {},
   "outputs": [],
   "source": [
    "comp_scott['SA_over_V_log'] = np.log(comp_scott['estim_SA_over_V'])"
   ]
  },
  {
   "cell_type": "code",
   "execution_count": 4,
   "metadata": {},
   "outputs": [
    {
     "data": {
      "text/html": [
       "<div>\n",
       "<style scoped>\n",
       "    .dataframe tbody tr th:only-of-type {\n",
       "        vertical-align: middle;\n",
       "    }\n",
       "\n",
       "    .dataframe tbody tr th {\n",
       "        vertical-align: top;\n",
       "    }\n",
       "\n",
       "    .dataframe thead th {\n",
       "        text-align: right;\n",
       "    }\n",
       "</style>\n",
       "<table border=\"1\" class=\"dataframe\">\n",
       "  <thead>\n",
       "    <tr style=\"text-align: right;\">\n",
       "      <th></th>\n",
       "      <th>model_kn</th>\n",
       "      <th>model_kt</th>\n",
       "      <th>model_fE</th>\n",
       "      <th>model_fR</th>\n",
       "      <th>model_active_R_frac</th>\n",
       "      <th>model_kn_log</th>\n",
       "      <th>model_kt_log</th>\n",
       "      <th>model_fE_log</th>\n",
       "      <th>model_fR_log</th>\n",
       "      <th>model_active_R_frac_log</th>\n",
       "    </tr>\n",
       "  </thead>\n",
       "  <tbody>\n",
       "    <tr>\n",
       "      <th>0</th>\n",
       "      <td>6.661873</td>\n",
       "      <td>4.500000</td>\n",
       "      <td>0.195080</td>\n",
       "      <td>0.354920</td>\n",
       "      <td>0.813704</td>\n",
       "      <td>1.896401</td>\n",
       "      <td>1.504077</td>\n",
       "      <td>-1.634345</td>\n",
       "      <td>-1.035863</td>\n",
       "      <td>-0.206158</td>\n",
       "    </tr>\n",
       "    <tr>\n",
       "      <th>1</th>\n",
       "      <td>6.661873</td>\n",
       "      <td>4.158184</td>\n",
       "      <td>0.185957</td>\n",
       "      <td>0.364043</td>\n",
       "      <td>0.818373</td>\n",
       "      <td>1.896401</td>\n",
       "      <td>1.425078</td>\n",
       "      <td>-1.682241</td>\n",
       "      <td>-1.010482</td>\n",
       "      <td>-0.200437</td>\n",
       "    </tr>\n",
       "    <tr>\n",
       "      <th>2</th>\n",
       "      <td>6.661873</td>\n",
       "      <td>2.001746</td>\n",
       "      <td>0.111801</td>\n",
       "      <td>0.438199</td>\n",
       "      <td>0.849110</td>\n",
       "      <td>1.896401</td>\n",
       "      <td>0.694020</td>\n",
       "      <td>-2.191031</td>\n",
       "      <td>-0.825083</td>\n",
       "      <td>-0.163567</td>\n",
       "    </tr>\n",
       "    <tr>\n",
       "      <th>3</th>\n",
       "      <td>6.661873</td>\n",
       "      <td>1.948888</td>\n",
       "      <td>0.109517</td>\n",
       "      <td>0.440483</td>\n",
       "      <td>0.849892</td>\n",
       "      <td>1.896401</td>\n",
       "      <td>0.667259</td>\n",
       "      <td>-2.211672</td>\n",
       "      <td>-0.819884</td>\n",
       "      <td>-0.162646</td>\n",
       "    </tr>\n",
       "    <tr>\n",
       "      <th>4</th>\n",
       "      <td>6.661873</td>\n",
       "      <td>1.501142</td>\n",
       "      <td>0.088983</td>\n",
       "      <td>0.461017</td>\n",
       "      <td>0.856578</td>\n",
       "      <td>1.896401</td>\n",
       "      <td>0.406226</td>\n",
       "      <td>-2.419306</td>\n",
       "      <td>-0.774321</td>\n",
       "      <td>-0.154810</td>\n",
       "    </tr>\n",
       "  </tbody>\n",
       "</table>\n",
       "</div>"
      ],
      "text/plain": [
       "   model_kn  model_kt  model_fE  model_fR  model_active_R_frac  model_kn_log  \\\n",
       "0  6.661873  4.500000  0.195080  0.354920             0.813704      1.896401   \n",
       "1  6.661873  4.158184  0.185957  0.364043             0.818373      1.896401   \n",
       "2  6.661873  2.001746  0.111801  0.438199             0.849110      1.896401   \n",
       "3  6.661873  1.948888  0.109517  0.440483             0.849892      1.896401   \n",
       "4  6.661873  1.501142  0.088983  0.461017             0.856578      1.896401   \n",
       "\n",
       "   model_kt_log  model_fE_log  model_fR_log  model_active_R_frac_log  \n",
       "0      1.504077     -1.634345     -1.035863                -0.206158  \n",
       "1      1.425078     -1.682241     -1.010482                -0.200437  \n",
       "2      0.694020     -2.191031     -0.825083                -0.163567  \n",
       "3      0.667259     -2.211672     -0.819884                -0.162646  \n",
       "4      0.406226     -2.419306     -0.774321                -0.154810  "
      ]
     },
     "execution_count": 4,
     "metadata": {},
     "output_type": "execute_result"
    }
   ],
   "source": [
    "col_names = comp_scott.columns\n",
    "col_names_to_remove = [cn for cn in col_names if 'growth_rate' in cn or 'model_' not in cn or 'fU' in cn]\n",
    "predictors = comp_scott.copy().drop(columns=col_names_to_remove)\n",
    "for c in predictors:\n",
    "    predictors[c+'_log'] = np.log(predictors[c])\n",
    "predictors.head()"
   ]
  },
  {
   "cell_type": "code",
   "execution_count": 5,
   "metadata": {},
   "outputs": [
    {
     "data": {
      "text/plain": [
       "0.834271958540653"
      ]
     },
     "execution_count": 5,
     "metadata": {},
     "output_type": "execute_result"
    }
   ],
   "source": [
    "mlr = LinearRegression()\n",
    "X = predictors[['model_kn_log', 'model_kt_log']]\n",
    "y = comp_scott['SA_over_V_log']\n",
    "mlr.fit(X, y)\n",
    "mlr.score(X, y)"
   ]
  },
  {
   "cell_type": "code",
   "execution_count": 9,
   "metadata": {},
   "outputs": [
    {
     "name": "stdout",
     "output_type": "stream",
     "text": [
      "0.8829433359762189\n",
      "[-0.50631297  0.02245958]\n"
     ]
    },
    {
     "data": {
      "text/plain": [
       "[<matplotlib.lines.Line2D at 0x1782666ea20>]"
      ]
     },
     "execution_count": 9,
     "metadata": {},
     "output_type": "execute_result"
    },
    {
     "data": {
      "image/png": "[encoded data removed]",
      "text/plain": [
       "<Figure size 432x288 with 1 Axes>"
      ]
     },
     "metadata": {
      "needs_background": "light"
     },
     "output_type": "display_data"
    }
   ],
   "source": [
    "mlr = LinearRegression()\n",
    "X = predictors[['model_kn', 'model_kt']]\n",
    "y = comp_scott['estim_SA_over_V']\n",
    "mlr.fit(X, y)\n",
    "print(mlr.score(X, y))\n",
    "print(mlr.coef_)\n",
    "plt.plot(y, mlr.predict(X), 'ro')"
   ]
  },
  {
   "cell_type": "code",
   "execution_count": 11,
   "metadata": {},
   "outputs": [
    {
     "name": "stdout",
     "output_type": "stream",
     "text": [
      "0.8823020733320861\n",
      "[-0.5052041]\n",
      "8.165668185333592\n"
     ]
    },
    {
     "data": {
      "text/plain": [
       "[<matplotlib.lines.Line2D at 0x178275e4ba8>]"
      ]
     },
     "execution_count": 11,
     "metadata": {},
     "output_type": "execute_result"
    },
    {
     "data": {
      "image/png": "[encoded data removed]",
      "text/plain": [
       "<Figure size 432x288 with 1 Axes>"
      ]
     },
     "metadata": {
      "needs_background": "light"
     },
     "output_type": "display_data"
    }
   ],
   "source": [
    "mlr = LinearRegression()\n",
    "X = predictors[['model_kn']]\n",
    "y = comp_scott['estim_SA_over_V']\n",
    "mlr.fit(X, y)\n",
    "print(mlr.score(X, y))\n",
    "print(mlr.coef_)\n",
    "print(mlr.intercept_)\n",
    "plt.plot(y, mlr.predict(X), 'ro')"
   ]
  },
  {
   "cell_type": "code",
   "execution_count": 13,
   "metadata": {},
   "outputs": [
    {
     "name": "stdout",
     "output_type": "stream",
     "text": [
      "{'model_kn_log': 0.8309502027698031, 'model_kt_log': 4.455213132414926e-06, 'model_fE_log': 0.46621326139213665, 'model_fR_log': 0.43053981501339306, 'model_active_R_frac_log': 0.3297011119050355}\n"
     ]
    }
   ],
   "source": [
    "y = comp_scott['SA_over_V_log']\n",
    "fits_single = {}\n",
    "scores_single = {}\n",
    "for c1 in [c for c in predictors if 'log' in c]:\n",
    "    mlr = LinearRegression()\n",
    "    X = predictors[[c1]]\n",
    "    mlr.fit(X, y)\n",
    "    scores_single[c1] = mlr.score(X, y)\n",
    "    fits_single[c1] = mlr\n",
    "print(scores_single)"
   ]
  },
  {
   "cell_type": "code",
   "execution_count": 14,
   "metadata": {},
   "outputs": [
    {
     "name": "stdout",
     "output_type": "stream",
     "text": [
      "{'model_kn': 0.8823020733320861, 'model_kt': 0.002599174490661826, 'model_fE': 0.5038611613697674, 'model_fR': 0.5038611613697677, 'model_active_R_frac': 0.41220403501512365}\n"
     ]
    }
   ],
   "source": [
    "y = comp_scott['estim_SA_over_V']\n",
    "fits_single = {}\n",
    "scores_single = {}\n",
    "for c1 in [c for c in predictors if 'log' not in c]:\n",
    "    mlr = LinearRegression()\n",
    "    X = predictors[[c1]]\n",
    "    mlr.fit(X, y)\n",
    "    scores_single[c1] = mlr.score(X, y)\n",
    "    fits_single[c1] = mlr\n",
    "print(scores_single)"
   ]
  },
  {
   "cell_type": "code",
   "execution_count": 17,
   "metadata": {},
   "outputs": [
    {
     "name": "stdout",
     "output_type": "stream",
     "text": [
      "model_kn_log_and_model_kt_log -> 0.834271958540653\n",
      "model_kn_log_and_model_fE_log -> 0.8387124784520329\n",
      "model_kn_log_and_model_fR_log -> 0.8309887516039809\n",
      "model_kn_log_and_model_active_R_frac_log -> 0.831227212499414\n",
      "model_kt_log_and_model_kn_log -> 0.834271958540653\n",
      "model_kt_log_and_model_fE_log -> 0.8139931084769719\n",
      "model_kt_log_and_model_fR_log -> 0.6635941965718204\n",
      "model_kt_log_and_model_active_R_frac_log -> 0.45449650968004723\n",
      "model_fE_log_and_model_kn_log -> 0.8387124784520329\n",
      "model_fE_log_and_model_kt_log -> 0.8139931084769719\n",
      "model_fE_log_and_model_fR_log -> 0.48312845670651616\n",
      "model_fE_log_and_model_active_R_frac_log -> 0.48130990029359205\n",
      "model_fR_log_and_model_kn_log -> 0.8309887516039807\n",
      "model_fR_log_and_model_kt_log -> 0.6635941965718204\n",
      "model_fR_log_and_model_fE_log -> 0.483128456706516\n",
      "model_fR_log_and_model_active_R_frac_log -> 0.46063553817088343\n",
      "model_active_R_frac_log_and_model_kn_log -> 0.831227212499414\n",
      "model_active_R_frac_log_and_model_kt_log -> 0.45449650968004723\n",
      "model_active_R_frac_log_and_model_fE_log -> 0.48130990029359205\n",
      "model_active_R_frac_log_and_model_fR_log -> 0.4606355381708837\n"
     ]
    }
   ],
   "source": [
    "y = comp_scott['SA_over_V_log']\n",
    "scores_pairs = {}\n",
    "for c1 in [c for c in predictors if 'log' in c]:\n",
    "    for c2 in [c for c in predictors if 'log' in c]:\n",
    "        if c1 != c2:\n",
    "            mlr = LinearRegression()\n",
    "            X = predictors[[c1, c2]]\n",
    "            mlr.fit(X, y)\n",
    "            scores_pairs[c1 + '_and_' + c2] = mlr.score(X, y)\n",
    "\n",
    "for model,R2 in scores_pairs.items():\n",
    "    print(model + ' -> ' + str(R2))"
   ]
  },
  {
   "cell_type": "code",
   "execution_count": 19,
   "metadata": {},
   "outputs": [
    {
     "name": "stdout",
     "output_type": "stream",
     "text": [
      "model_kn_and_model_kt -> 0.8829433359762189\n",
      "model_kn_and_model_fE -> 0.8914502673879272\n",
      "model_kn_and_model_fR -> 0.8914502673879273\n",
      "model_kn_and_model_active_R_frac -> 0.8943664873550643\n",
      "model_kt_and_model_kn -> 0.8829433359762189\n",
      "model_kt_and_model_fE -> 0.8605707173973982\n",
      "model_kt_and_model_fR -> 0.8605707173973983\n",
      "model_kt_and_model_active_R_frac -> 0.6620656077518159\n",
      "model_fE_and_model_kn -> 0.8914502673879272\n",
      "model_fE_and_model_kt -> 0.8605707173973982\n",
      "model_fE_and_model_fR -> 0.5067037818489933\n",
      "model_fE_and_model_active_R_frac -> 0.504571648083946\n",
      "model_fR_and_model_kn -> 0.8914502673879273\n",
      "model_fR_and_model_kt -> 0.8605707173973983\n",
      "model_fR_and_model_fE -> 0.504983502083515\n",
      "model_fR_and_model_active_R_frac -> 0.5045716480839462\n",
      "model_active_R_frac_and_model_kn -> 0.8943664873550642\n",
      "model_active_R_frac_and_model_kt -> 0.6620656077518159\n",
      "model_active_R_frac_and_model_fE -> 0.5045716480839457\n",
      "model_active_R_frac_and_model_fR -> 0.5045716480839462\n"
     ]
    }
   ],
   "source": [
    "y = comp_scott['estim_SA_over_V']\n",
    "scores_pairs = {}\n",
    "for c1 in [c for c in predictors if 'log' not in c]:\n",
    "    for c2 in [c for c in predictors if 'log' not in c]:\n",
    "        if c1 != c2:\n",
    "            mlr = LinearRegression()\n",
    "            X = predictors[[c1, c2]]\n",
    "            mlr.fit(X, y)\n",
    "            scores_pairs[c1 + '_and_' + c2] = mlr.score(X, y)\n",
    "for model,R2 in scores_pairs.items():\n",
    "    print(model + ' -> ' + str(R2))"
   ]
  },
  {
   "cell_type": "code",
   "execution_count": 20,
   "metadata": {},
   "outputs": [
    {
     "name": "stdout",
     "output_type": "stream",
     "text": [
      "0.9168200919217664\n",
      "[-0.58271313]\n",
      "8.388026766754004\n"
     ]
    },
    {
     "data": {
      "text/plain": [
       "[<matplotlib.lines.Line2D at 0x17827771e48>]"
      ]
     },
     "execution_count": 20,
     "metadata": {},
     "output_type": "execute_result"
    },
    {
     "data": {
      "image/png": "[encoded data removed]",
      "text/plain": [
       "<Figure size 432x288 with 1 Axes>"
      ]
     },
     "metadata": {
      "needs_background": "light"
     },
     "output_type": "display_data"
    }
   ],
   "source": [
    "y = comp_scott.query('cm_type == 0')['estim_SA_over_V']\n",
    "X = comp_scott.query('cm_type == 0')[['model_kn']]\n",
    "mlr = LinearRegression()\n",
    "mlr.fit(X, y)\n",
    "print(mlr.score(X, y))\n",
    "print(mlr.coef_)\n",
    "print(mlr.intercept_)\n",
    "plt.plot(y, mlr.predict(X), 'ko')"
   ]
  },
  {
   "cell_type": "code",
   "execution_count": null,
   "metadata": {},
   "outputs": [],
   "source": []
  }
 ],
 "metadata": {
  "kernelspec": {
   "display_name": "Python 3",
   "language": "python",
   "name": "python3"
  },
  "language_info": {
   "codemirror_mode": {
    "name": "ipython",
    "version": 3
   },
   "file_extension": ".py",
   "mimetype": "text/x-python",
   "name": "python",
   "nbconvert_exporter": "python",
   "pygments_lexer": "ipython3",
   "version": "3.7.3"
  }
 },
 "nbformat": 4,
 "nbformat_minor": 2
}
