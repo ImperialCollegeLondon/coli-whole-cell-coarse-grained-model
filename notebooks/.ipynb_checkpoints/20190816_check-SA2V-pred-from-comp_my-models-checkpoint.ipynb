{
 "cells": [
  {
   "cell_type": "code",
   "execution_count": 1,
   "metadata": {},
   "outputs": [],
   "source": [
    "import pandas as pd\n",
    "import seaborn as sns\n",
    "import numpy as np\n",
    "from sklearn.linear_model import LinearRegression\n",
    "import matplotlib.pyplot as plt"
   ]
  },
  {
   "cell_type": "code",
   "execution_count": 7,
   "metadata": {},
   "outputs": [
    {
     "data": {
      "text/html": [
       "<div>\n",
       "<style scoped>\n",
       "    .dataframe tbody tr th:only-of-type {\n",
       "        vertical-align: middle;\n",
       "    }\n",
       "\n",
       "    .dataframe tbody tr th {\n",
       "        vertical-align: top;\n",
       "    }\n",
       "\n",
       "    .dataframe thead th {\n",
       "        text-align: right;\n",
       "    }\n",
       "</style>\n",
       "<table border=\"1\" class=\"dataframe\">\n",
       "  <thead>\n",
       "    <tr style=\"text-align: right;\">\n",
       "      <th></th>\n",
       "      <th>si_jun_excel_raw_number</th>\n",
       "      <th>growth_rate_per_hr</th>\n",
       "      <th>estim_SA_over_V</th>\n",
       "      <th>estim_aspect_ratio</th>\n",
       "      <th>estim_vol_um3</th>\n",
       "      <th>estim_C_plus_D_hrs</th>\n",
       "      <th>nutrient_type</th>\n",
       "      <th>cm_type</th>\n",
       "      <th>useless_type</th>\n",
       "      <th>model_k</th>\n",
       "      <th>...</th>\n",
       "      <th>model_fR</th>\n",
       "      <th>model_fQ</th>\n",
       "      <th>model_a</th>\n",
       "      <th>model_e</th>\n",
       "      <th>model_r</th>\n",
       "      <th>model_ra</th>\n",
       "      <th>model_q</th>\n",
       "      <th>model_u</th>\n",
       "      <th>model_ra_over_r</th>\n",
       "      <th>model_growth_rate</th>\n",
       "    </tr>\n",
       "  </thead>\n",
       "  <tbody>\n",
       "    <tr>\n",
       "      <th>0</th>\n",
       "      <td>202</td>\n",
       "      <td>1.71</td>\n",
       "      <td>4.306</td>\n",
       "      <td>4.0089</td>\n",
       "      <td>3.40</td>\n",
       "      <td>1.37</td>\n",
       "      <td>7</td>\n",
       "      <td>0</td>\n",
       "      <td>0</td>\n",
       "      <td>9.964003</td>\n",
       "      <td>...</td>\n",
       "      <td>0.317292</td>\n",
       "      <td>0.495582</td>\n",
       "      <td>0.082876</td>\n",
       "      <td>0.171618</td>\n",
       "      <td>0.290996</td>\n",
       "      <td>0.290996</td>\n",
       "      <td>0.45451</td>\n",
       "      <td>0</td>\n",
       "      <td>1.000000</td>\n",
       "      <td>1.709999</td>\n",
       "    </tr>\n",
       "    <tr>\n",
       "      <th>1</th>\n",
       "      <td>203</td>\n",
       "      <td>1.63</td>\n",
       "      <td>4.473</td>\n",
       "      <td>3.9774</td>\n",
       "      <td>3.00</td>\n",
       "      <td>1.35</td>\n",
       "      <td>7</td>\n",
       "      <td>1</td>\n",
       "      <td>0</td>\n",
       "      <td>9.964003</td>\n",
       "      <td>...</td>\n",
       "      <td>0.327958</td>\n",
       "      <td>0.494178</td>\n",
       "      <td>0.080270</td>\n",
       "      <td>0.163586</td>\n",
       "      <td>0.301633</td>\n",
       "      <td>0.279921</td>\n",
       "      <td>0.45451</td>\n",
       "      <td>0</td>\n",
       "      <td>0.928020</td>\n",
       "      <td>1.629974</td>\n",
       "    </tr>\n",
       "    <tr>\n",
       "      <th>2</th>\n",
       "      <td>204</td>\n",
       "      <td>0.98</td>\n",
       "      <td>4.870</td>\n",
       "      <td>4.1282</td>\n",
       "      <td>2.39</td>\n",
       "      <td>1.88</td>\n",
       "      <td>7</td>\n",
       "      <td>1</td>\n",
       "      <td>0</td>\n",
       "      <td>9.964003</td>\n",
       "      <td>...</td>\n",
       "      <td>0.412727</td>\n",
       "      <td>0.482797</td>\n",
       "      <td>0.058589</td>\n",
       "      <td>0.098355</td>\n",
       "      <td>0.388545</td>\n",
       "      <td>0.184983</td>\n",
       "      <td>0.45451</td>\n",
       "      <td>0</td>\n",
       "      <td>0.476091</td>\n",
       "      <td>0.980009</td>\n",
       "    </tr>\n",
       "    <tr>\n",
       "      <th>3</th>\n",
       "      <td>205</td>\n",
       "      <td>0.96</td>\n",
       "      <td>5.107</td>\n",
       "      <td>4.0063</td>\n",
       "      <td>2.02</td>\n",
       "      <td>2.05</td>\n",
       "      <td>7</td>\n",
       "      <td>1</td>\n",
       "      <td>0</td>\n",
       "      <td>9.964003</td>\n",
       "      <td>...</td>\n",
       "      <td>0.415293</td>\n",
       "      <td>0.482437</td>\n",
       "      <td>0.057887</td>\n",
       "      <td>0.096350</td>\n",
       "      <td>0.391253</td>\n",
       "      <td>0.181907</td>\n",
       "      <td>0.45451</td>\n",
       "      <td>0</td>\n",
       "      <td>0.464936</td>\n",
       "      <td>0.960031</td>\n",
       "    </tr>\n",
       "    <tr>\n",
       "      <th>4</th>\n",
       "      <td>206</td>\n",
       "      <td>0.78</td>\n",
       "      <td>5.111</td>\n",
       "      <td>3.6121</td>\n",
       "      <td>1.89</td>\n",
       "      <td>2.48</td>\n",
       "      <td>7</td>\n",
       "      <td>1</td>\n",
       "      <td>0</td>\n",
       "      <td>9.964003</td>\n",
       "      <td>...</td>\n",
       "      <td>0.438352</td>\n",
       "      <td>0.479127</td>\n",
       "      <td>0.051378</td>\n",
       "      <td>0.078282</td>\n",
       "      <td>0.415830</td>\n",
       "      <td>0.153658</td>\n",
       "      <td>0.45451</td>\n",
       "      <td>0</td>\n",
       "      <td>0.369521</td>\n",
       "      <td>0.780002</td>\n",
       "    </tr>\n",
       "  </tbody>\n",
       "</table>\n",
       "<p>5 rows × 23 columns</p>\n",
       "</div>"
      ],
      "text/plain": [
       "   si_jun_excel_raw_number  growth_rate_per_hr  estim_SA_over_V  \\\n",
       "0                      202                1.71            4.306   \n",
       "1                      203                1.63            4.473   \n",
       "2                      204                0.98            4.870   \n",
       "3                      205                0.96            5.107   \n",
       "4                      206                0.78            5.111   \n",
       "\n",
       "   estim_aspect_ratio  estim_vol_um3  estim_C_plus_D_hrs  nutrient_type  \\\n",
       "0              4.0089           3.40                1.37              7   \n",
       "1              3.9774           3.00                1.35              7   \n",
       "2              4.1282           2.39                1.88              7   \n",
       "3              4.0063           2.02                2.05              7   \n",
       "4              3.6121           1.89                2.48              7   \n",
       "\n",
       "   cm_type  useless_type   model_k  ...  model_fR  model_fQ   model_a  \\\n",
       "0        0             0  9.964003  ...  0.317292  0.495582  0.082876   \n",
       "1        1             0  9.964003  ...  0.327958  0.494178  0.080270   \n",
       "2        1             0  9.964003  ...  0.412727  0.482797  0.058589   \n",
       "3        1             0  9.964003  ...  0.415293  0.482437  0.057887   \n",
       "4        1             0  9.964003  ...  0.438352  0.479127  0.051378   \n",
       "\n",
       "    model_e   model_r  model_ra  model_q  model_u  model_ra_over_r  \\\n",
       "0  0.171618  0.290996  0.290996  0.45451        0         1.000000   \n",
       "1  0.163586  0.301633  0.279921  0.45451        0         0.928020   \n",
       "2  0.098355  0.388545  0.184983  0.45451        0         0.476091   \n",
       "3  0.096350  0.391253  0.181907  0.45451        0         0.464936   \n",
       "4  0.078282  0.415830  0.153658  0.45451        0         0.369521   \n",
       "\n",
       "   model_growth_rate  \n",
       "0           1.709999  \n",
       "1           1.629974  \n",
       "2           0.980009  \n",
       "3           0.960031  \n",
       "4           0.780002  \n",
       "\n",
       "[5 rows x 23 columns]"
      ]
     },
     "execution_count": 7,
     "metadata": {},
     "output_type": "execute_result"
    }
   ],
   "source": [
    "comp_opt = pd.read_csv('../results-data/res3_cell-compositions/si_2017_modulations.csv')\n",
    "comp_opt.head()"
   ]
  },
  {
   "cell_type": "code",
   "execution_count": 8,
   "metadata": {},
   "outputs": [],
   "source": [
    "comp_opt['SA_over_V_log'] = np.log(comp_opt['estim_SA_over_V'])"
   ]
  },
  {
   "cell_type": "code",
   "execution_count": 10,
   "metadata": {},
   "outputs": [
    {
     "name": "stderr",
     "output_type": "stream",
     "text": [
      "C:\\Users\\inbio\\Miniconda3\\lib\\site-packages\\ipykernel_launcher.py:5: RuntimeWarning: divide by zero encountered in log\n",
      "  \"\"\"\n"
     ]
    },
    {
     "data": {
      "text/html": [
       "<div>\n",
       "<style scoped>\n",
       "    .dataframe tbody tr th:only-of-type {\n",
       "        vertical-align: middle;\n",
       "    }\n",
       "\n",
       "    .dataframe tbody tr th {\n",
       "        vertical-align: top;\n",
       "    }\n",
       "\n",
       "    .dataframe thead th {\n",
       "        text-align: right;\n",
       "    }\n",
       "</style>\n",
       "<table border=\"1\" class=\"dataframe\">\n",
       "  <thead>\n",
       "    <tr style=\"text-align: right;\">\n",
       "      <th></th>\n",
       "      <th>model_k</th>\n",
       "      <th>model_ri</th>\n",
       "      <th>model_fE</th>\n",
       "      <th>model_fR</th>\n",
       "      <th>model_fQ</th>\n",
       "      <th>model_a</th>\n",
       "      <th>model_e</th>\n",
       "      <th>model_r</th>\n",
       "      <th>model_ra</th>\n",
       "      <th>model_q</th>\n",
       "      <th>...</th>\n",
       "      <th>model_ri_log</th>\n",
       "      <th>model_fE_log</th>\n",
       "      <th>model_fR_log</th>\n",
       "      <th>model_fQ_log</th>\n",
       "      <th>model_a_log</th>\n",
       "      <th>model_e_log</th>\n",
       "      <th>model_r_log</th>\n",
       "      <th>model_ra_log</th>\n",
       "      <th>model_q_log</th>\n",
       "      <th>model_ra_over_r_log</th>\n",
       "    </tr>\n",
       "  </thead>\n",
       "  <tbody>\n",
       "    <tr>\n",
       "      <th>0</th>\n",
       "      <td>9.964003</td>\n",
       "      <td>0.000000</td>\n",
       "      <td>0.187126</td>\n",
       "      <td>0.317292</td>\n",
       "      <td>0.495582</td>\n",
       "      <td>0.082876</td>\n",
       "      <td>0.171618</td>\n",
       "      <td>0.290996</td>\n",
       "      <td>0.290996</td>\n",
       "      <td>0.45451</td>\n",
       "      <td>...</td>\n",
       "      <td>-inf</td>\n",
       "      <td>-1.675974</td>\n",
       "      <td>-1.147933</td>\n",
       "      <td>-0.702022</td>\n",
       "      <td>-2.490411</td>\n",
       "      <td>-1.762486</td>\n",
       "      <td>-1.234446</td>\n",
       "      <td>-1.234446</td>\n",
       "      <td>-0.788535</td>\n",
       "      <td>0.000000</td>\n",
       "    </tr>\n",
       "    <tr>\n",
       "      <th>1</th>\n",
       "      <td>9.964003</td>\n",
       "      <td>0.021712</td>\n",
       "      <td>0.177863</td>\n",
       "      <td>0.327958</td>\n",
       "      <td>0.494178</td>\n",
       "      <td>0.080270</td>\n",
       "      <td>0.163586</td>\n",
       "      <td>0.301633</td>\n",
       "      <td>0.279921</td>\n",
       "      <td>0.45451</td>\n",
       "      <td>...</td>\n",
       "      <td>-3.829905</td>\n",
       "      <td>-1.726739</td>\n",
       "      <td>-1.114869</td>\n",
       "      <td>-0.704859</td>\n",
       "      <td>-2.522355</td>\n",
       "      <td>-1.810415</td>\n",
       "      <td>-1.198544</td>\n",
       "      <td>-1.273247</td>\n",
       "      <td>-0.788535</td>\n",
       "      <td>-0.074703</td>\n",
       "    </tr>\n",
       "    <tr>\n",
       "      <th>2</th>\n",
       "      <td>9.964003</td>\n",
       "      <td>0.203562</td>\n",
       "      <td>0.104476</td>\n",
       "      <td>0.412727</td>\n",
       "      <td>0.482797</td>\n",
       "      <td>0.058589</td>\n",
       "      <td>0.098355</td>\n",
       "      <td>0.388545</td>\n",
       "      <td>0.184983</td>\n",
       "      <td>0.45451</td>\n",
       "      <td>...</td>\n",
       "      <td>-1.591783</td>\n",
       "      <td>-2.258797</td>\n",
       "      <td>-0.884970</td>\n",
       "      <td>-0.728159</td>\n",
       "      <td>-2.837202</td>\n",
       "      <td>-2.319173</td>\n",
       "      <td>-0.945345</td>\n",
       "      <td>-1.687491</td>\n",
       "      <td>-0.788535</td>\n",
       "      <td>-0.742146</td>\n",
       "    </tr>\n",
       "    <tr>\n",
       "      <th>3</th>\n",
       "      <td>9.964003</td>\n",
       "      <td>0.209345</td>\n",
       "      <td>0.102270</td>\n",
       "      <td>0.415293</td>\n",
       "      <td>0.482437</td>\n",
       "      <td>0.057887</td>\n",
       "      <td>0.096350</td>\n",
       "      <td>0.391253</td>\n",
       "      <td>0.181907</td>\n",
       "      <td>0.45451</td>\n",
       "      <td>...</td>\n",
       "      <td>-1.563770</td>\n",
       "      <td>-2.280138</td>\n",
       "      <td>-0.878772</td>\n",
       "      <td>-0.728905</td>\n",
       "      <td>-2.849263</td>\n",
       "      <td>-2.339768</td>\n",
       "      <td>-0.938402</td>\n",
       "      <td>-1.704258</td>\n",
       "      <td>-0.788535</td>\n",
       "      <td>-0.765856</td>\n",
       "    </tr>\n",
       "    <tr>\n",
       "      <th>4</th>\n",
       "      <td>9.964003</td>\n",
       "      <td>0.262172</td>\n",
       "      <td>0.082522</td>\n",
       "      <td>0.438352</td>\n",
       "      <td>0.479127</td>\n",
       "      <td>0.051378</td>\n",
       "      <td>0.078282</td>\n",
       "      <td>0.415830</td>\n",
       "      <td>0.153658</td>\n",
       "      <td>0.45451</td>\n",
       "      <td>...</td>\n",
       "      <td>-1.338754</td>\n",
       "      <td>-2.494693</td>\n",
       "      <td>-0.824734</td>\n",
       "      <td>-0.735790</td>\n",
       "      <td>-2.968553</td>\n",
       "      <td>-2.547438</td>\n",
       "      <td>-0.877479</td>\n",
       "      <td>-1.873026</td>\n",
       "      <td>-0.788535</td>\n",
       "      <td>-0.995548</td>\n",
       "    </tr>\n",
       "  </tbody>\n",
       "</table>\n",
       "<p>5 rows × 22 columns</p>\n",
       "</div>"
      ],
      "text/plain": [
       "    model_k  model_ri  model_fE  model_fR  model_fQ   model_a   model_e  \\\n",
       "0  9.964003  0.000000  0.187126  0.317292  0.495582  0.082876  0.171618   \n",
       "1  9.964003  0.021712  0.177863  0.327958  0.494178  0.080270  0.163586   \n",
       "2  9.964003  0.203562  0.104476  0.412727  0.482797  0.058589  0.098355   \n",
       "3  9.964003  0.209345  0.102270  0.415293  0.482437  0.057887  0.096350   \n",
       "4  9.964003  0.262172  0.082522  0.438352  0.479127  0.051378  0.078282   \n",
       "\n",
       "    model_r  model_ra  model_q  ...  model_ri_log  model_fE_log  model_fR_log  \\\n",
       "0  0.290996  0.290996  0.45451  ...          -inf     -1.675974     -1.147933   \n",
       "1  0.301633  0.279921  0.45451  ...     -3.829905     -1.726739     -1.114869   \n",
       "2  0.388545  0.184983  0.45451  ...     -1.591783     -2.258797     -0.884970   \n",
       "3  0.391253  0.181907  0.45451  ...     -1.563770     -2.280138     -0.878772   \n",
       "4  0.415830  0.153658  0.45451  ...     -1.338754     -2.494693     -0.824734   \n",
       "\n",
       "   model_fQ_log  model_a_log  model_e_log  model_r_log  model_ra_log  \\\n",
       "0     -0.702022    -2.490411    -1.762486    -1.234446     -1.234446   \n",
       "1     -0.704859    -2.522355    -1.810415    -1.198544     -1.273247   \n",
       "2     -0.728159    -2.837202    -2.319173    -0.945345     -1.687491   \n",
       "3     -0.728905    -2.849263    -2.339768    -0.938402     -1.704258   \n",
       "4     -0.735790    -2.968553    -2.547438    -0.877479     -1.873026   \n",
       "\n",
       "   model_q_log  model_ra_over_r_log  \n",
       "0    -0.788535             0.000000  \n",
       "1    -0.788535            -0.074703  \n",
       "2    -0.788535            -0.742146  \n",
       "3    -0.788535            -0.765856  \n",
       "4    -0.788535            -0.995548  \n",
       "\n",
       "[5 rows x 22 columns]"
      ]
     },
     "execution_count": 10,
     "metadata": {},
     "output_type": "execute_result"
    }
   ],
   "source": [
    "col_names = comp_opt.columns\n",
    "col_names_to_remove = [cn for cn in col_names if 'growth_rate' in cn or 'model_' not in cn or 'fU' in cn or 'model_u' in cn]\n",
    "predictors = comp_opt.copy().drop(columns=col_names_to_remove)\n",
    "for c in predictors:\n",
    "    predictors[c+'_log'] = np.log(predictors[c])\n",
    "predictors.head()"
   ]
  },
  {
   "cell_type": "code",
   "execution_count": 11,
   "metadata": {},
   "outputs": [
    {
     "data": {
      "text/plain": [
       "0.8357144893677887"
      ]
     },
     "execution_count": 11,
     "metadata": {},
     "output_type": "execute_result"
    }
   ],
   "source": [
    "mlr = LinearRegression()\n",
    "X = predictors[['model_k_log', 'model_ra_over_r_log']]\n",
    "y = comp_opt['SA_over_V_log']\n",
    "mlr.fit(X, y)\n",
    "mlr.score(X, y)"
   ]
  },
  {
   "cell_type": "code",
   "execution_count": 13,
   "metadata": {},
   "outputs": [
    {
     "name": "stdout",
     "output_type": "stream",
     "text": [
      "0.880698584229844\n",
      "[-0.33194764  0.12466551]\n"
     ]
    },
    {
     "data": {
      "text/plain": [
       "[<matplotlib.lines.Line2D at 0x1f534e5f160>]"
      ]
     },
     "execution_count": 13,
     "metadata": {},
     "output_type": "execute_result"
    },
    {
     "data": {
      "image/png": "[encoded data removed]",
      "text/plain": [
       "<Figure size 432x288 with 1 Axes>"
      ]
     },
     "metadata": {
      "needs_background": "light"
     },
     "output_type": "display_data"
    }
   ],
   "source": [
    "mlr = LinearRegression()\n",
    "X = predictors[['model_k', 'model_ra_over_r']]\n",
    "y = comp_opt['estim_SA_over_V']\n",
    "mlr.fit(X, y)\n",
    "print(mlr.score(X, y))\n",
    "print(mlr.coef_)\n",
    "plt.plot(y, mlr.predict(X), 'ro')"
   ]
  },
  {
   "cell_type": "code",
   "execution_count": 14,
   "metadata": {},
   "outputs": [
    {
     "name": "stdout",
     "output_type": "stream",
     "text": [
      "0.8798098720980887\n",
      "[-0.33130571]\n",
      "8.08149947078651\n"
     ]
    },
    {
     "data": {
      "text/plain": [
       "[<matplotlib.lines.Line2D at 0x1f5356e7400>]"
      ]
     },
     "execution_count": 14,
     "metadata": {},
     "output_type": "execute_result"
    },
    {
     "data": {
      "image/png": "[encoded data removed]",
      "text/plain": [
       "<Figure size 432x288 with 1 Axes>"
      ]
     },
     "metadata": {
      "needs_background": "light"
     },
     "output_type": "display_data"
    }
   ],
   "source": [
    "mlr = LinearRegression()\n",
    "X = predictors[['model_k']]\n",
    "y = comp_opt['estim_SA_over_V']\n",
    "mlr.fit(X, y)\n",
    "print(mlr.score(X, y))\n",
    "print(mlr.coef_)\n",
    "print(mlr.intercept_)\n",
    "plt.plot(y, mlr.predict(X), 'ro')"
   ]
  },
  {
   "cell_type": "code",
   "execution_count": 16,
   "metadata": {},
   "outputs": [
    {
     "name": "stdout",
     "output_type": "stream",
     "text": [
      "{'model_k_log': 0.8328723629376333, 'model_fE_log': 0.49107866982229686, 'model_fR_log': 0.39589839803440324, 'model_fQ_log': 0.2527266352709192, 'model_a_log': 0.2320272312741526, 'model_e_log': 0.5114426106287177, 'model_r_log': 0.36964442360668254, 'model_ra_log': 0.22786628250787608, 'model_q_log': 3.3306690738754696e-16, 'model_ra_over_r_log': 0.0004346769506002879}\n"
     ]
    }
   ],
   "source": [
    "y = comp_opt['SA_over_V_log']\n",
    "fits_single = {}\n",
    "scores_single = {}\n",
    "for c1 in [c for c in predictors if 'log' in c and 'ri' not in c]:\n",
    "    mlr = LinearRegression()\n",
    "    X = predictors[[c1]]\n",
    "    mlr.fit(X, y)\n",
    "    scores_single[c1] = mlr.score(X, y)\n",
    "    fits_single[c1] = mlr\n",
    "print(scores_single)"
   ]
  },
  {
   "cell_type": "code",
   "execution_count": 17,
   "metadata": {},
   "outputs": [
    {
     "name": "stdout",
     "output_type": "stream",
     "text": [
      "{'model_k': 0.8798098720980887, 'model_ri': 0.07250093271476843, 'model_fE': 0.5317819166581329, 'model_fR': 0.47391088997781283, 'model_fQ': 0.2723729948089082, 'model_a': 0.27195228796165627, 'model_e': 0.5549925893733596, 'model_r': 0.43596750009733276, 'model_ra': 0.2718078915313523, 'model_q': 0.0, 'model_ra_over_r': 0.0007464571897277671}\n"
     ]
    }
   ],
   "source": [
    "y = comp_opt['estim_SA_over_V']\n",
    "fits_single = {}\n",
    "scores_single = {}\n",
    "for c1 in [c for c in predictors if 'log' not in c]:\n",
    "    mlr = LinearRegression()\n",
    "    X = predictors[[c1]]\n",
    "    mlr.fit(X, y)\n",
    "    scores_single[c1] = mlr.score(X, y)\n",
    "    fits_single[c1] = mlr\n",
    "print(scores_single)"
   ]
  },
  {
   "cell_type": "code",
   "execution_count": 19,
   "metadata": {},
   "outputs": [
    {
     "name": "stdout",
     "output_type": "stream",
     "text": [
      "model_k_log_and_model_fE_log -> 0.8404579411138308\n",
      "model_k_log_and_model_fR_log -> 0.8328725499141593\n",
      "model_k_log_and_model_fQ_log -> 0.8343414461763932\n",
      "model_k_log_and_model_a_log -> 0.8393539877834771\n",
      "model_k_log_and_model_e_log -> 0.8406818923973234\n",
      "model_k_log_and_model_r_log -> 0.8328769487406609\n",
      "model_k_log_and_model_ra_log -> 0.8403562309691572\n",
      "model_k_log_and_model_q_log -> 0.8328723629376333\n",
      "model_k_log_and_model_ra_over_r_log -> 0.8357144893677887\n",
      "model_fE_log_and_model_k_log -> 0.8404579411138308\n",
      "model_fE_log_and_model_fR_log -> 0.4951209372745864\n",
      "model_fE_log_and_model_fQ_log -> 0.8705717795710235\n",
      "model_fE_log_and_model_a_log -> 0.8464616929056243\n",
      "model_fE_log_and_model_e_log -> 0.8705717795710212\n",
      "model_fE_log_and_model_r_log -> 0.49133291474853935\n",
      "model_fE_log_and_model_ra_log -> 0.8410047391214203\n",
      "model_fE_log_and_model_q_log -> 0.49107866982229686\n",
      "model_fE_log_and_model_ra_over_r_log -> 0.8215732948441967\n",
      "model_fR_log_and_model_k_log -> 0.8328725499141593\n",
      "model_fR_log_and_model_fE_log -> 0.4951209372745864\n",
      "model_fR_log_and_model_fQ_log -> 0.6453727310575024\n",
      "model_fR_log_and_model_a_log -> 0.6273864055210507\n",
      "model_fR_log_and_model_e_log -> 0.5127869751679006\n",
      "model_fR_log_and_model_r_log -> 0.645372731057502\n",
      "model_fR_log_and_model_ra_log -> 0.623361171612768\n",
      "model_fR_log_and_model_q_log -> 0.39589839803440324\n",
      "model_fR_log_and_model_ra_over_r_log -> 0.6243741194884613\n",
      "model_fQ_log_and_model_k_log -> 0.8343414461763933\n",
      "model_fQ_log_and_model_fE_log -> 0.8705717795710233\n",
      "model_fQ_log_and_model_fR_log -> 0.6453727310575024\n",
      "model_fQ_log_and_model_a_log -> 0.25822960308100273\n",
      "model_fQ_log_and_model_e_log -> 0.870571779571023\n",
      "model_fQ_log_and_model_r_log -> 0.6453727310575024\n",
      "model_fQ_log_and_model_ra_log -> 0.25847092563354\n",
      "model_fQ_log_and_model_q_log -> 0.2527266352709181\n",
      "model_fQ_log_and_model_ra_over_r_log -> 0.6418527780689551\n",
      "model_a_log_and_model_k_log -> 0.8393539877834771\n",
      "model_a_log_and_model_fE_log -> 0.8464616929056245\n",
      "model_a_log_and_model_fR_log -> 0.627386405521051\n",
      "model_a_log_and_model_fQ_log -> 0.25822960308100373\n",
      "model_a_log_and_model_e_log -> 0.847554777534947\n",
      "model_a_log_and_model_r_log -> 0.6260160317676222\n",
      "model_a_log_and_model_ra_log -> 0.2611839169649073\n",
      "model_a_log_and_model_q_log -> 0.2320272312741526\n",
      "model_a_log_and_model_ra_over_r_log -> 0.6319928456968602\n",
      "model_e_log_and_model_k_log -> 0.8406818923973234\n",
      "model_e_log_and_model_fE_log -> 0.8705717795710219\n",
      "model_e_log_and_model_fR_log -> 0.5127869751679008\n",
      "model_e_log_and_model_fQ_log -> 0.8705717795710235\n",
      "model_e_log_and_model_a_log -> 0.847554777534947\n",
      "model_e_log_and_model_r_log -> 0.5115566904503849\n",
      "model_e_log_and_model_ra_log -> 0.8423649751814352\n",
      "model_e_log_and_model_q_log -> 0.5114426106287177\n",
      "model_e_log_and_model_ra_over_r_log -> 0.8273813242977351\n",
      "model_r_log_and_model_k_log -> 0.8328769487406609\n",
      "model_r_log_and_model_fE_log -> 0.49133291474853924\n",
      "model_r_log_and_model_fR_log -> 0.6453727310575026\n",
      "model_r_log_and_model_fQ_log -> 0.6453727310575027\n",
      "model_r_log_and_model_a_log -> 0.6260160317676222\n",
      "model_r_log_and_model_e_log -> 0.5115566904503848\n",
      "model_r_log_and_model_ra_log -> 0.6216573846464765\n",
      "model_r_log_and_model_q_log -> 0.36964442360668254\n",
      "model_r_log_and_model_ra_over_r_log -> 0.6216573846464768\n",
      "model_ra_log_and_model_k_log -> 0.8403562309691571\n",
      "model_ra_log_and_model_fE_log -> 0.8410047391214202\n",
      "model_ra_log_and_model_fR_log -> 0.623361171612768\n",
      "model_ra_log_and_model_fQ_log -> 0.258470925633539\n",
      "model_ra_log_and_model_a_log -> 0.26118391696491006\n",
      "model_ra_log_and_model_e_log -> 0.8423649751814352\n",
      "model_ra_log_and_model_r_log -> 0.6216573846464765\n",
      "model_ra_log_and_model_q_log -> 0.22786628250787633\n",
      "model_ra_log_and_model_ra_over_r_log -> 0.6216573846464758\n",
      "model_q_log_and_model_k_log -> 0.8328723629376331\n",
      "model_q_log_and_model_fE_log -> 0.49107866982229714\n",
      "model_q_log_and_model_fR_log -> 0.39589839803440324\n",
      "model_q_log_and_model_fQ_log -> 0.2527266352709189\n",
      "model_q_log_and_model_a_log -> 0.23202723127415278\n",
      "model_q_log_and_model_e_log -> 0.511442610628718\n",
      "model_q_log_and_model_r_log -> 0.36964442360668226\n",
      "model_q_log_and_model_ra_log -> 0.22786628250787655\n",
      "model_q_log_and_model_ra_over_r_log -> 0.0004346769506001768\n",
      "model_ra_over_r_log_and_model_k_log -> 0.8357144893677888\n",
      "model_ra_over_r_log_and_model_fE_log -> 0.8215732948441967\n",
      "model_ra_over_r_log_and_model_fR_log -> 0.6243741194884616\n",
      "model_ra_over_r_log_and_model_fQ_log -> 0.6418527780689561\n",
      "model_ra_over_r_log_and_model_a_log -> 0.6319928456968598\n",
      "model_ra_over_r_log_and_model_e_log -> 0.827381324297735\n",
      "model_ra_over_r_log_and_model_r_log -> 0.6216573846464771\n",
      "model_ra_over_r_log_and_model_ra_log -> 0.6216573846464755\n",
      "model_ra_over_r_log_and_model_q_log -> 0.0004346769506002879\n"
     ]
    }
   ],
   "source": [
    "y = comp_opt['SA_over_V_log']\n",
    "scores_pairs = {}\n",
    "for c1 in [c for c in predictors if 'log' in c and 'ri' not in c]:\n",
    "    for c2 in [c for c in predictors if 'log' in c and 'ri' not in c]:\n",
    "        if c1 != c2:\n",
    "            mlr = LinearRegression()\n",
    "            X = predictors[[c1, c2]]\n",
    "            mlr.fit(X, y)\n",
    "            scores_pairs[c1 + '_and_' + c2] = mlr.score(X, y)\n",
    "\n",
    "for model,R2 in scores_pairs.items():\n",
    "    print(model + ' -> ' + str(R2))"
   ]
  },
  {
   "cell_type": "code",
   "execution_count": 20,
   "metadata": {},
   "outputs": [
    {
     "name": "stdout",
     "output_type": "stream",
     "text": [
      "model_k_and_model_ri -> 0.8840648330875563\n",
      "model_k_and_model_fE -> 0.8914652242177628\n",
      "model_k_and_model_fR -> 0.8902190124038811\n",
      "model_k_and_model_fQ -> 0.8798098734182601\n",
      "model_k_and_model_a -> 0.8798105087669775\n",
      "model_k_and_model_e -> 0.8925615906075042\n",
      "model_k_and_model_r -> 0.8899541846803796\n",
      "model_k_and_model_ra -> 0.8798099677826089\n",
      "model_k_and_model_q -> 0.8798098720980886\n",
      "model_k_and_model_ra_over_r -> 0.880698584229844\n",
      "model_ri_and_model_k -> 0.8840648330875565\n",
      "model_ri_and_model_fE -> 0.806994518430863\n",
      "model_ri_and_model_fR -> 0.806497029642562\n",
      "model_ri_and_model_fQ -> 0.8108803710504001\n",
      "model_ri_and_model_a -> 0.8091065584519839\n",
      "model_ri_and_model_e -> 0.8097465126294896\n",
      "model_ri_and_model_r -> 0.8094879520013342\n",
      "model_ri_and_model_ra -> 0.809487952001334\n",
      "model_ri_and_model_q -> 0.07250093271476843\n",
      "model_ri_and_model_ra_over_r -> 0.5577697051192776\n",
      "model_fE_and_model_k -> 0.8914652242177628\n",
      "model_fE_and_model_ri -> 0.806994518430863\n",
      "model_fE_and_model_fR -> 0.8090444354536382\n",
      "model_fE_and_model_fQ -> 0.8090444354536367\n",
      "model_fE_and_model_a -> 0.8084155819209843\n",
      "model_fE_and_model_e -> 0.8110700919930321\n",
      "model_fE_and_model_r -> 0.7984133841668077\n",
      "model_fE_and_model_ra -> 0.8082830878907821\n",
      "model_fE_and_model_q -> 0.5317819166581329\n",
      "model_fE_and_model_ra_over_r -> 0.8614298170919794\n",
      "model_fR_and_model_k -> 0.8902190124038811\n",
      "model_fR_and_model_ri -> 0.806497029642562\n",
      "model_fR_and_model_fE -> 0.8090444354536382\n",
      "model_fR_and_model_fQ -> 0.8090444354536366\n",
      "model_fR_and_model_a -> 0.8083409343764567\n",
      "model_fR_and_model_e -> 0.8165984036292067\n",
      "model_fR_and_model_r -> 0.771827797580428\n",
      "model_fR_and_model_ra -> 0.8081815955775074\n",
      "model_fR_and_model_q -> 0.47391088997781283\n",
      "model_fR_and_model_ra_over_r -> 0.8606948375636236\n",
      "model_fQ_and_model_k -> 0.8798098734182601\n",
      "model_fQ_and_model_ri -> 0.8108803710503997\n",
      "model_fQ_and_model_fE -> 0.8090444354536369\n",
      "model_fQ_and_model_fR -> 0.8090444354536368\n",
      "model_fQ_and_model_a -> 0.27270066948795835\n",
      "model_fQ_and_model_e -> 0.8103836859061382\n",
      "model_fQ_and_model_r -> 0.8104934151501031\n",
      "model_fQ_and_model_ra -> 0.2725398534982777\n",
      "model_fQ_and_model_q -> 0.27237299480890786\n",
      "model_fQ_and_model_ra_over_r -> 0.5650838362587274\n",
      "model_a_and_model_k -> 0.8798105087669775\n",
      "model_a_and_model_ri -> 0.8091065584519839\n",
      "model_a_and_model_fE -> 0.8084155819209843\n",
      "model_a_and_model_fR -> 0.8083409343764567\n",
      "model_a_and_model_fQ -> 0.27270066948795635\n",
      "model_a_and_model_e -> 0.8097890727884527\n",
      "model_a_and_model_r -> 0.8097890727884525\n",
      "model_a_and_model_ra -> 0.2720148673542854\n",
      "model_a_and_model_q -> 0.27195228796165627\n",
      "model_a_and_model_ra_over_r -> 0.5635649187006242\n",
      "model_e_and_model_k -> 0.8925615906075042\n",
      "model_e_and_model_ri -> 0.8097465126294898\n",
      "model_e_and_model_fE -> 0.8110700919930324\n",
      "model_e_and_model_fR -> 0.8165984036292065\n",
      "model_e_and_model_fQ -> 0.8103836859061375\n",
      "model_e_and_model_a -> 0.8097890727884527\n",
      "model_e_and_model_r -> 0.8097890727884545\n",
      "model_e_and_model_ra -> 0.8096454370232069\n",
      "model_e_and_model_q -> 0.5549925893733596\n",
      "model_e_and_model_ra_over_r -> 0.8607597722355882\n",
      "model_r_and_model_k -> 0.8899541846803796\n",
      "model_r_and_model_ri -> 0.8094879520013342\n",
      "model_r_and_model_fE -> 0.7984133841668078\n",
      "model_r_and_model_fR -> 0.771827797580428\n",
      "model_r_and_model_fQ -> 0.8104934151501033\n",
      "model_r_and_model_a -> 0.8097890727884525\n",
      "model_r_and_model_e -> 0.8097890727884544\n",
      "model_r_and_model_ra -> 0.8094879520013342\n",
      "model_r_and_model_q -> 0.43596750009733276\n",
      "model_r_and_model_ra_over_r -> 0.857587167995026\n",
      "model_ra_and_model_k -> 0.8798099677826089\n",
      "model_ra_and_model_ri -> 0.809487952001334\n",
      "model_ra_and_model_fE -> 0.808283087890782\n",
      "model_ra_and_model_fR -> 0.8081815955775075\n",
      "model_ra_and_model_fQ -> 0.2725398534982766\n",
      "model_ra_and_model_a -> 0.27201486735428526\n",
      "model_ra_and_model_e -> 0.8096454370232069\n",
      "model_ra_and_model_r -> 0.8094879520013342\n",
      "model_ra_and_model_q -> 0.2718078915313523\n",
      "model_ra_and_model_ra_over_r -> 0.5626654722820983\n",
      "model_q_and_model_k -> 0.8798098720980887\n",
      "model_q_and_model_ri -> 0.07250093271476843\n",
      "model_q_and_model_fE -> 0.5317819166581327\n",
      "model_q_and_model_fR -> 0.47391088997781294\n",
      "model_q_and_model_fQ -> 0.27237299480890875\n",
      "model_q_and_model_a -> 0.27195228796165605\n",
      "model_q_and_model_e -> 0.5549925893733596\n",
      "model_q_and_model_r -> 0.4359675000973329\n",
      "model_q_and_model_ra -> 0.2718078915313523\n",
      "model_q_and_model_ra_over_r -> 0.0007464571897276561\n",
      "model_ra_over_r_and_model_k -> 0.880698584229844\n",
      "model_ra_over_r_and_model_ri -> 0.5577697051192776\n",
      "model_ra_over_r_and_model_fE -> 0.8614298170919795\n",
      "model_ra_over_r_and_model_fR -> 0.8606948375636234\n",
      "model_ra_over_r_and_model_fQ -> 0.5650838362587283\n",
      "model_ra_over_r_and_model_a -> 0.563564918700624\n",
      "model_ra_over_r_and_model_e -> 0.8607597722355882\n",
      "model_ra_over_r_and_model_r -> 0.857587167995026\n",
      "model_ra_over_r_and_model_ra -> 0.5626654722820984\n",
      "model_ra_over_r_and_model_q -> 0.0007464571897277671\n"
     ]
    }
   ],
   "source": [
    "y = comp_opt['estim_SA_over_V']\n",
    "scores_pairs = {}\n",
    "for c1 in [c for c in predictors if 'log' not in c]:\n",
    "    for c2 in [c for c in predictors if 'log' not in c]:\n",
    "        if c1 != c2:\n",
    "            mlr = LinearRegression()\n",
    "            X = predictors[[c1, c2]]\n",
    "            mlr.fit(X, y)\n",
    "            scores_pairs[c1 + '_and_' + c2] = mlr.score(X, y)\n",
    "for model,R2 in scores_pairs.items():\n",
    "    print(model + ' -> ' + str(R2))"
   ]
  },
  {
   "cell_type": "code",
   "execution_count": 21,
   "metadata": {},
   "outputs": [
    {
     "name": "stdout",
     "output_type": "stream",
     "text": [
      "0.8925615906075042\n",
      "[-0.29116199  1.87090991]\n",
      "7.547882481327979\n"
     ]
    },
    {
     "data": {
      "text/plain": [
       "[<matplotlib.lines.Line2D at 0x1f535741c88>]"
      ]
     },
     "execution_count": 21,
     "metadata": {},
     "output_type": "execute_result"
    },
    {
     "data": {
      "image/png": "[encoded data removed]",
      "text/plain": [
       "<Figure size 432x288 with 1 Axes>"
      ]
     },
     "metadata": {
      "needs_background": "light"
     },
     "output_type": "display_data"
    }
   ],
   "source": [
    "y = comp_opt['estim_SA_over_V']\n",
    "X = comp_opt[['model_k', 'model_e']]\n",
    "mlr = LinearRegression()\n",
    "mlr.fit(X, y)\n",
    "print(mlr.score(X, y))\n",
    "print(mlr.coef_)\n",
    "print(mlr.intercept_)\n",
    "plt.plot(y, mlr.predict(X), 'ko')"
   ]
  },
  {
   "cell_type": "code",
   "execution_count": 24,
   "metadata": {},
   "outputs": [
    {
     "name": "stdout",
     "output_type": "stream",
     "text": [
      "0.9127486470771498\n",
      "[-2.60544927]\n",
      "9.244550706093237\n"
     ]
    },
    {
     "data": {
      "text/plain": [
       "[<matplotlib.lines.Line2D at 0x1f534846898>]"
      ]
     },
     "execution_count": 24,
     "metadata": {},
     "output_type": "execute_result"
    },
    {
     "data": {
      "image/png": "[encoded data removed]",
      "text/plain": [
       "<Figure size 432x288 with 1 Axes>"
      ]
     },
     "metadata": {
      "needs_background": "light"
     },
     "output_type": "display_data"
    }
   ],
   "source": [
    "y = comp_opt.query('cm_type == 0')['estim_SA_over_V']\n",
    "X = comp_opt.query('cm_type == 0')[['model_growth_rate']]\n",
    "mlr = LinearRegression()\n",
    "mlr.fit(X, y)\n",
    "print(mlr.score(X, y))\n",
    "print(mlr.coef_)\n",
    "print(mlr.intercept_)\n",
    "plt.plot(y, mlr.predict(X), 'ko')"
   ]
  },
  {
   "cell_type": "code",
   "execution_count": 31,
   "metadata": {},
   "outputs": [
    {
     "name": "stdout",
     "output_type": "stream",
     "text": [
      "0.8660941877150501\n",
      "[-1.01749552  0.66489151]\n",
      "-0.3606416044328915\n"
     ]
    },
    {
     "data": {
      "text/plain": [
       "[<matplotlib.lines.Line2D at 0x1f537906c88>]"
      ]
     },
     "execution_count": 31,
     "metadata": {},
     "output_type": "execute_result"
    },
    {
     "data": {
      "image/png": "[encoded data removed]",
      "text/plain": [
       "<Figure size 432x288 with 1 Axes>"
      ]
     },
     "metadata": {
      "needs_background": "light"
     },
     "output_type": "display_data"
    }
   ],
   "source": [
    "comp_opt_all = pd.read_csv('../results-data/res3_cell-compositions/basan_2015_si_2017_taheri_2015_modulations.csv')\n",
    "y = np.log(comp_opt_all['cell_size'])\n",
    "X = np.log(comp_opt_all[['model_e', 'model_ra_over_r']])\n",
    "mlr = LinearRegression()\n",
    "mlr.fit(X, y)\n",
    "print(mlr.score(X, y))\n",
    "print(mlr.coef_)\n",
    "print(mlr.intercept_)\n",
    "plt.plot(y, mlr.predict(X), 'ko')"
   ]
  },
  {
   "cell_type": "code",
   "execution_count": null,
   "metadata": {},
   "outputs": [],
   "source": []
  }
 ],
 "metadata": {
  "kernelspec": {
   "display_name": "Python 3",
   "language": "python",
   "name": "python3"
  },
  "language_info": {
   "codemirror_mode": {
    "name": "ipython",
    "version": 3
   },
   "file_extension": ".py",
   "mimetype": "text/x-python",
   "name": "python",
   "nbconvert_exporter": "python",
   "pygments_lexer": "ipython3",
   "version": "3.7.3"
  }
 },
 "nbformat": 4,
 "nbformat_minor": 2
}
