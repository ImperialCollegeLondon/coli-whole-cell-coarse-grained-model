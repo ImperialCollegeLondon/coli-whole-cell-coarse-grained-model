{
 "cells": [
  {
   "cell_type": "code",
   "execution_count": 1,
   "metadata": {},
   "outputs": [],
   "source": [
    "import pandas as pd\n",
    "import seaborn as sns\n",
    "import numpy as np\n",
    "import matplotlib.pyplot as plt"
   ]
  },
  {
   "cell_type": "markdown",
   "metadata": {},
   "source": [
    "### Cells change their SA/V by changing width and not aspect ratio"
   ]
  },
  {
   "cell_type": "code",
   "execution_count": 2,
   "metadata": {},
   "outputs": [
    {
     "data": {
      "text/html": [
       "<div>\n",
       "<style scoped>\n",
       "    .dataframe tbody tr th:only-of-type {\n",
       "        vertical-align: middle;\n",
       "    }\n",
       "\n",
       "    .dataframe tbody tr th {\n",
       "        vertical-align: top;\n",
       "    }\n",
       "\n",
       "    .dataframe thead th {\n",
       "        text-align: right;\n",
       "    }\n",
       "</style>\n",
       "<table border=\"1\" class=\"dataframe\">\n",
       "  <thead>\n",
       "    <tr style=\"text-align: right;\">\n",
       "      <th></th>\n",
       "      <th>experiment name</th>\n",
       "      <th>type of perturbation</th>\n",
       "      <th>strain type (background)</th>\n",
       "      <th>growth media</th>\n",
       "      <th>inducer or drug added</th>\n",
       "      <th>concentration</th>\n",
       "      <th>growth rate (1/hours)</th>\n",
       "      <th>cell size (μm3)</th>\n",
       "      <th>cel length (μm)</th>\n",
       "      <th>cel width (μm)</th>\n",
       "      <th>...</th>\n",
       "      <th>doubling time (minutes)</th>\n",
       "      <th>C period (minutes)</th>\n",
       "      <th>D period (minutes)</th>\n",
       "      <th>C+D period (minutes)</th>\n",
       "      <th>number of origins</th>\n",
       "      <th>time of initiation (minutes)</th>\n",
       "      <th>time of termination (minutes)</th>\n",
       "      <th>cell size per ori (μm3)</th>\n",
       "      <th>intensity of transcription reporter (AU)</th>\n",
       "      <th>RNA/protein</th>\n",
       "    </tr>\n",
       "  </thead>\n",
       "  <tbody>\n",
       "    <tr>\n",
       "      <th>0</th>\n",
       "      <td>DnaA_20160315</td>\n",
       "      <td>DnaA knockdown</td>\n",
       "      <td>tCRISPRi DnaA (MG1655)</td>\n",
       "      <td>MOPS glucose + 6 a. a.</td>\n",
       "      <td>arabinose</td>\n",
       "      <td>0%</td>\n",
       "      <td>0.77169</td>\n",
       "      <td>1.4379</td>\n",
       "      <td>3.0629</td>\n",
       "      <td>0.8343</td>\n",
       "      <td>...</td>\n",
       "      <td>53.893</td>\n",
       "      <td>40.2942</td>\n",
       "      <td>49.3554</td>\n",
       "      <td>89.652</td>\n",
       "      <td>3.1678</td>\n",
       "      <td>18.137</td>\n",
       "      <td>4.538</td>\n",
       "      <td>0.45392</td>\n",
       "      <td>NaN</td>\n",
       "      <td>0.21380</td>\n",
       "    </tr>\n",
       "    <tr>\n",
       "      <th>1</th>\n",
       "      <td>NaN</td>\n",
       "      <td>NaN</td>\n",
       "      <td>NaN</td>\n",
       "      <td>NaN</td>\n",
       "      <td>NaN</td>\n",
       "      <td>0.003125%</td>\n",
       "      <td>0.76637</td>\n",
       "      <td>1.2804</td>\n",
       "      <td>2.8407</td>\n",
       "      <td>0.8227</td>\n",
       "      <td>...</td>\n",
       "      <td>54.267</td>\n",
       "      <td>47.3352</td>\n",
       "      <td>27.1992</td>\n",
       "      <td>74.532</td>\n",
       "      <td>2.5909</td>\n",
       "      <td>34.000</td>\n",
       "      <td>27.068</td>\n",
       "      <td>0.49418</td>\n",
       "      <td>NaN</td>\n",
       "      <td>0.24898</td>\n",
       "    </tr>\n",
       "    <tr>\n",
       "      <th>2</th>\n",
       "      <td>NaN</td>\n",
       "      <td>NaN</td>\n",
       "      <td>NaN</td>\n",
       "      <td>NaN</td>\n",
       "      <td>NaN</td>\n",
       "      <td>0.00625%</td>\n",
       "      <td>0.76876</td>\n",
       "      <td>1.3005</td>\n",
       "      <td>2.8780</td>\n",
       "      <td>0.8222</td>\n",
       "      <td>...</td>\n",
       "      <td>54.099</td>\n",
       "      <td>43.3968</td>\n",
       "      <td>35.4654</td>\n",
       "      <td>78.864</td>\n",
       "      <td>2.7468</td>\n",
       "      <td>29.335</td>\n",
       "      <td>18.634</td>\n",
       "      <td>0.47346</td>\n",
       "      <td>NaN</td>\n",
       "      <td>0.18341</td>\n",
       "    </tr>\n",
       "    <tr>\n",
       "      <th>3</th>\n",
       "      <td>NaN</td>\n",
       "      <td>NaN</td>\n",
       "      <td>NaN</td>\n",
       "      <td>NaN</td>\n",
       "      <td>NaN</td>\n",
       "      <td>0.0125%</td>\n",
       "      <td>0.76348</td>\n",
       "      <td>1.3149</td>\n",
       "      <td>2.9470</td>\n",
       "      <td>0.8129</td>\n",
       "      <td>...</td>\n",
       "      <td>54.472</td>\n",
       "      <td>46.1940</td>\n",
       "      <td>33.4314</td>\n",
       "      <td>79.626</td>\n",
       "      <td>2.7544</td>\n",
       "      <td>29.319</td>\n",
       "      <td>21.041</td>\n",
       "      <td>0.47738</td>\n",
       "      <td>NaN</td>\n",
       "      <td>0.23775</td>\n",
       "    </tr>\n",
       "    <tr>\n",
       "      <th>4</th>\n",
       "      <td>NaN</td>\n",
       "      <td>NaN</td>\n",
       "      <td>NaN</td>\n",
       "      <td>NaN</td>\n",
       "      <td>NaN</td>\n",
       "      <td>0.025%</td>\n",
       "      <td>0.71349</td>\n",
       "      <td>1.5055</td>\n",
       "      <td>3.2714</td>\n",
       "      <td>0.8166</td>\n",
       "      <td>...</td>\n",
       "      <td>58.290</td>\n",
       "      <td>53.5512</td>\n",
       "      <td>31.3296</td>\n",
       "      <td>84.882</td>\n",
       "      <td>2.7438</td>\n",
       "      <td>31.699</td>\n",
       "      <td>26.960</td>\n",
       "      <td>0.54869</td>\n",
       "      <td>NaN</td>\n",
       "      <td>0.22604</td>\n",
       "    </tr>\n",
       "  </tbody>\n",
       "</table>\n",
       "<p>5 rows × 24 columns</p>\n",
       "</div>"
      ],
      "text/plain": [
       "  experiment name type of perturbation strain type (background)  \\\n",
       "0   DnaA_20160315       DnaA knockdown   tCRISPRi DnaA (MG1655)   \n",
       "1             NaN                  NaN                      NaN   \n",
       "2             NaN                  NaN                      NaN   \n",
       "3             NaN                  NaN                      NaN   \n",
       "4             NaN                  NaN                      NaN   \n",
       "\n",
       "             growth media inducer or drug added concentration   \\\n",
       "0  MOPS glucose + 6 a. a.             arabinose             0%   \n",
       "1                     NaN                   NaN      0.003125%   \n",
       "2                     NaN                   NaN       0.00625%   \n",
       "3                     NaN                   NaN        0.0125%   \n",
       "4                     NaN                   NaN         0.025%   \n",
       "\n",
       "   growth rate (1/hours)  cell size (μm3)  cel length (μm)  cel width (μm)  \\\n",
       "0                0.77169           1.4379           3.0629          0.8343   \n",
       "1                0.76637           1.2804           2.8407          0.8227   \n",
       "2                0.76876           1.3005           2.8780          0.8222   \n",
       "3                0.76348           1.3149           2.9470          0.8129   \n",
       "4                0.71349           1.5055           3.2714          0.8166   \n",
       "\n",
       "   ...  doubling time (minutes)  C period (minutes)  D period (minutes)  \\\n",
       "0  ...                   53.893             40.2942             49.3554   \n",
       "1  ...                   54.267             47.3352             27.1992   \n",
       "2  ...                   54.099             43.3968             35.4654   \n",
       "3  ...                   54.472             46.1940             33.4314   \n",
       "4  ...                   58.290             53.5512             31.3296   \n",
       "\n",
       "   C+D period (minutes)  number of origins  time of initiation (minutes)  \\\n",
       "0                89.652             3.1678                        18.137   \n",
       "1                74.532             2.5909                        34.000   \n",
       "2                78.864             2.7468                        29.335   \n",
       "3                79.626             2.7544                        29.319   \n",
       "4                84.882             2.7438                        31.699   \n",
       "\n",
       "   time of termination (minutes)  cell size per ori (μm3)  \\\n",
       "0                          4.538                  0.45392   \n",
       "1                         27.068                  0.49418   \n",
       "2                         18.634                  0.47346   \n",
       "3                         21.041                  0.47738   \n",
       "4                         26.960                  0.54869   \n",
       "\n",
       "   intensity of transcription reporter (AU)  RNA/protein  \n",
       "0                                       NaN      0.21380  \n",
       "1                                       NaN      0.24898  \n",
       "2                                       NaN      0.18341  \n",
       "3                                       NaN      0.23775  \n",
       "4                                       NaN      0.22604  \n",
       "\n",
       "[5 rows x 24 columns]"
      ]
     },
     "execution_count": 2,
     "metadata": {},
     "output_type": "execute_result"
    }
   ],
   "source": [
    "raw_raw = pd.read_excel('/Users/inbio/Google Drive/work/to-sort/papers-data/Si-Jun-raw-data.xlsx', \n",
    "                        sheet_name='Data')\n",
    "raw_raw.head()"
   ]
  },
  {
   "cell_type": "code",
   "execution_count": 3,
   "metadata": {},
   "outputs": [
    {
     "data": {
      "text/plain": [
       "<matplotlib.axes._subplots.AxesSubplot at 0x2c7dce280f0>"
      ]
     },
     "execution_count": 3,
     "metadata": {},
     "output_type": "execute_result"
    },
    {
     "data": {
      "image/png": "[encoded data removed]",
      "text/plain": [
       "<Figure size 432x288 with 1 Axes>"
      ]
     },
     "metadata": {
      "needs_background": "light"
     },
     "output_type": "display_data"
    }
   ],
   "source": [
    "sns.scatterplot(data=raw_raw, x='surface-to-volume ratio (μm-1)', y='cel width (μm)')"
   ]
  },
  {
   "cell_type": "code",
   "execution_count": 4,
   "metadata": {},
   "outputs": [
    {
     "data": {
      "text/plain": [
       "<matplotlib.axes._subplots.AxesSubplot at 0x2c7dcedab70>"
      ]
     },
     "execution_count": 4,
     "metadata": {},
     "output_type": "execute_result"
    },
    {
     "data": {
      "image/png": "[encoded data removed]",
      "text/plain": [
       "<Figure size 432x288 with 1 Axes>"
      ]
     },
     "metadata": {
      "needs_background": "light"
     },
     "output_type": "display_data"
    }
   ],
   "source": [
    "sns.scatterplot(data=raw_raw, x='surface-to-volume ratio (μm-1)', y='aspect ratio')"
   ]
  },
  {
   "cell_type": "code",
   "execution_count": 27,
   "metadata": {},
   "outputs": [
    {
     "data": {
      "text/plain": [
       "<matplotlib.axes._subplots.AxesSubplot at 0x2c7e0fbdcc0>"
      ]
     },
     "execution_count": 27,
     "metadata": {},
     "output_type": "execute_result"
    },
    {
     "data": {
      "image/png": "[encoded data removed]",
      "text/plain": [
       "<Figure size 432x288 with 1 Axes>"
      ]
     },
     "metadata": {
      "needs_background": "light"
     },
     "output_type": "display_data"
    }
   ],
   "source": [
    "sns.scatterplot(data=raw_raw, x='cel width (μm)', y='cell size (μm3)')"
   ]
  },
  {
   "cell_type": "code",
   "execution_count": 31,
   "metadata": {},
   "outputs": [
    {
     "data": {
      "text/plain": [
       "<matplotlib.axes._subplots.AxesSubplot at 0x2c7e0e5d8d0>"
      ]
     },
     "execution_count": 31,
     "metadata": {},
     "output_type": "execute_result"
    },
    {
     "data": {
      "image/png": "[encoded data removed]",
      "text/plain": [
       "<Figure size 432x288 with 1 Axes>"
      ]
     },
     "metadata": {
      "needs_background": "light"
     },
     "output_type": "display_data"
    }
   ],
   "source": [
    "sns.scatterplot(data=raw_raw.iloc[raw['si_jun_excel_raw_number']], \n",
    "                x='cel width (μm)', y='cell size (μm3)', hue='aspect ratio')"
   ]
  },
  {
   "cell_type": "code",
   "execution_count": 32,
   "metadata": {},
   "outputs": [
    {
     "data": {
      "text/plain": [
       "<matplotlib.axes._subplots.AxesSubplot at 0x2c7e14bc3c8>"
      ]
     },
     "execution_count": 32,
     "metadata": {},
     "output_type": "execute_result"
    },
    {
     "data": {
      "image/png": "[encoded data removed]",
      "text/plain": [
       "<Figure size 432x288 with 1 Axes>"
      ]
     },
     "metadata": {
      "needs_background": "light"
     },
     "output_type": "display_data"
    }
   ],
   "source": [
    "sns.scatterplot(data=raw_raw.iloc[raw['si_jun_excel_raw_number']], \n",
    "                x='cel width (μm)', y='cell size (μm3)', hue='growth rate (1/hours)')"
   ]
  },
  {
   "cell_type": "markdown",
   "metadata": {},
   "source": [
    "## Trends of aspect ratio and SA/V for nut and cm modulation Si data"
   ]
  },
  {
   "cell_type": "code",
   "execution_count": 5,
   "metadata": {},
   "outputs": [
    {
     "data": {
      "text/html": [
       "<div>\n",
       "<style scoped>\n",
       "    .dataframe tbody tr th:only-of-type {\n",
       "        vertical-align: middle;\n",
       "    }\n",
       "\n",
       "    .dataframe tbody tr th {\n",
       "        vertical-align: top;\n",
       "    }\n",
       "\n",
       "    .dataframe thead th {\n",
       "        text-align: right;\n",
       "    }\n",
       "</style>\n",
       "<table border=\"1\" class=\"dataframe\">\n",
       "  <thead>\n",
       "    <tr style=\"text-align: right;\">\n",
       "      <th></th>\n",
       "      <th>si_jun_excel_raw_number</th>\n",
       "      <th>growth_rate_per_hr</th>\n",
       "      <th>estim_SA_over_V</th>\n",
       "      <th>estim_aspect_ratio</th>\n",
       "      <th>estim_vol_um3</th>\n",
       "      <th>estim_C_plus_D_hrs</th>\n",
       "      <th>nutrient_type</th>\n",
       "      <th>cm_type</th>\n",
       "      <th>useless_type</th>\n",
       "    </tr>\n",
       "  </thead>\n",
       "  <tbody>\n",
       "    <tr>\n",
       "      <th>0</th>\n",
       "      <td>202</td>\n",
       "      <td>1.71</td>\n",
       "      <td>4.306</td>\n",
       "      <td>4.0089</td>\n",
       "      <td>3.40</td>\n",
       "      <td>1.37</td>\n",
       "      <td>7</td>\n",
       "      <td>0</td>\n",
       "      <td>0</td>\n",
       "    </tr>\n",
       "    <tr>\n",
       "      <th>1</th>\n",
       "      <td>203</td>\n",
       "      <td>1.63</td>\n",
       "      <td>4.473</td>\n",
       "      <td>3.9774</td>\n",
       "      <td>3.00</td>\n",
       "      <td>1.35</td>\n",
       "      <td>7</td>\n",
       "      <td>1</td>\n",
       "      <td>0</td>\n",
       "    </tr>\n",
       "    <tr>\n",
       "      <th>2</th>\n",
       "      <td>204</td>\n",
       "      <td>0.98</td>\n",
       "      <td>4.870</td>\n",
       "      <td>4.1282</td>\n",
       "      <td>2.39</td>\n",
       "      <td>1.88</td>\n",
       "      <td>7</td>\n",
       "      <td>1</td>\n",
       "      <td>0</td>\n",
       "    </tr>\n",
       "    <tr>\n",
       "      <th>3</th>\n",
       "      <td>205</td>\n",
       "      <td>0.96</td>\n",
       "      <td>5.107</td>\n",
       "      <td>4.0063</td>\n",
       "      <td>2.02</td>\n",
       "      <td>2.05</td>\n",
       "      <td>7</td>\n",
       "      <td>1</td>\n",
       "      <td>0</td>\n",
       "    </tr>\n",
       "    <tr>\n",
       "      <th>4</th>\n",
       "      <td>206</td>\n",
       "      <td>0.78</td>\n",
       "      <td>5.111</td>\n",
       "      <td>3.6121</td>\n",
       "      <td>1.89</td>\n",
       "      <td>2.48</td>\n",
       "      <td>7</td>\n",
       "      <td>1</td>\n",
       "      <td>0</td>\n",
       "    </tr>\n",
       "  </tbody>\n",
       "</table>\n",
       "</div>"
      ],
      "text/plain": [
       "   si_jun_excel_raw_number  growth_rate_per_hr  estim_SA_over_V  \\\n",
       "0                      202                1.71            4.306   \n",
       "1                      203                1.63            4.473   \n",
       "2                      204                0.98            4.870   \n",
       "3                      205                0.96            5.107   \n",
       "4                      206                0.78            5.111   \n",
       "\n",
       "   estim_aspect_ratio  estim_vol_um3  estim_C_plus_D_hrs  nutrient_type  \\\n",
       "0              4.0089           3.40                1.37              7   \n",
       "1              3.9774           3.00                1.35              7   \n",
       "2              4.1282           2.39                1.88              7   \n",
       "3              4.0063           2.02                2.05              7   \n",
       "4              3.6121           1.89                2.48              7   \n",
       "\n",
       "   cm_type  useless_type  \n",
       "0        0             0  \n",
       "1        1             0  \n",
       "2        1             0  \n",
       "3        1             0  \n",
       "4        1             0  "
      ]
     },
     "execution_count": 5,
     "metadata": {},
     "output_type": "execute_result"
    }
   ],
   "source": [
    "raw = pd.read_csv('../external-data/si_2017_data.csv')\n",
    "raw.head()"
   ]
  },
  {
   "cell_type": "code",
   "execution_count": 6,
   "metadata": {},
   "outputs": [
    {
     "data": {
      "text/plain": [
       "<matplotlib.axes._subplots.AxesSubplot at 0x2c7dd35d3c8>"
      ]
     },
     "execution_count": 6,
     "metadata": {},
     "output_type": "execute_result"
    },
    {
     "data": {
      "image/png": "[encoded data removed]",
      "text/plain": [
       "<Figure size 432x288 with 1 Axes>"
      ]
     },
     "metadata": {
      "needs_background": "light"
     },
     "output_type": "display_data"
    }
   ],
   "source": [
    "sns.scatterplot(data=raw, x='growth_rate_per_hr', y='estim_aspect_ratio', hue='cm_type', style='nutrient_type')"
   ]
  },
  {
   "cell_type": "code",
   "execution_count": 7,
   "metadata": {},
   "outputs": [
    {
     "data": {
      "text/plain": [
       "<matplotlib.axes._subplots.AxesSubplot at 0x2c7de410208>"
      ]
     },
     "execution_count": 7,
     "metadata": {},
     "output_type": "execute_result"
    },
    {
     "data": {
      "image/png": "[encoded data removed]",
      "text/plain": [
       "<Figure size 432x288 with 1 Axes>"
      ]
     },
     "metadata": {
      "needs_background": "light"
     },
     "output_type": "display_data"
    }
   ],
   "source": [
    "sns.scatterplot(data=raw, x='growth_rate_per_hr', y='estim_SA_over_V', hue='cm_type', style='nutrient_type')"
   ]
  },
  {
   "cell_type": "code",
   "execution_count": 8,
   "metadata": {},
   "outputs": [
    {
     "data": {
      "text/html": [
       "<div>\n",
       "<style scoped>\n",
       "    .dataframe tbody tr th:only-of-type {\n",
       "        vertical-align: middle;\n",
       "    }\n",
       "\n",
       "    .dataframe tbody tr th {\n",
       "        vertical-align: top;\n",
       "    }\n",
       "\n",
       "    .dataframe thead th {\n",
       "        text-align: right;\n",
       "    }\n",
       "</style>\n",
       "<table border=\"1\" class=\"dataframe\">\n",
       "  <thead>\n",
       "    <tr style=\"text-align: right;\">\n",
       "      <th></th>\n",
       "      <th>si_jun_excel_raw_number</th>\n",
       "      <th>growth_rate_per_hr</th>\n",
       "      <th>estim_SA_over_V</th>\n",
       "      <th>estim_aspect_ratio</th>\n",
       "      <th>estim_vol_um3</th>\n",
       "      <th>estim_C_plus_D_hrs</th>\n",
       "      <th>nutrient_type</th>\n",
       "      <th>cm_type</th>\n",
       "      <th>useless_type</th>\n",
       "    </tr>\n",
       "  </thead>\n",
       "  <tbody>\n",
       "    <tr>\n",
       "      <th>0</th>\n",
       "      <td>202</td>\n",
       "      <td>1.71</td>\n",
       "      <td>4.3060</td>\n",
       "      <td>4.0089</td>\n",
       "      <td>3.40</td>\n",
       "      <td>1.37</td>\n",
       "      <td>7</td>\n",
       "      <td>0</td>\n",
       "      <td>0</td>\n",
       "    </tr>\n",
       "    <tr>\n",
       "      <th>8</th>\n",
       "      <td>241</td>\n",
       "      <td>1.51</td>\n",
       "      <td>6.0025</td>\n",
       "      <td>4.6614</td>\n",
       "      <td>1.42</td>\n",
       "      <td>1.13</td>\n",
       "      <td>8</td>\n",
       "      <td>0</td>\n",
       "      <td>0</td>\n",
       "    </tr>\n",
       "    <tr>\n",
       "      <th>16</th>\n",
       "      <td>300</td>\n",
       "      <td>1.03</td>\n",
       "      <td>6.2728</td>\n",
       "      <td>3.7971</td>\n",
       "      <td>1.04</td>\n",
       "      <td>1.10</td>\n",
       "      <td>9</td>\n",
       "      <td>0</td>\n",
       "      <td>0</td>\n",
       "    </tr>\n",
       "    <tr>\n",
       "      <th>24</th>\n",
       "      <td>328</td>\n",
       "      <td>0.65</td>\n",
       "      <td>7.7214</td>\n",
       "      <td>4.2886</td>\n",
       "      <td>0.61</td>\n",
       "      <td>1.39</td>\n",
       "      <td>10</td>\n",
       "      <td>0</td>\n",
       "      <td>0</td>\n",
       "    </tr>\n",
       "    <tr>\n",
       "      <th>32</th>\n",
       "      <td>343</td>\n",
       "      <td>0.36</td>\n",
       "      <td>8.2154</td>\n",
       "      <td>3.5897</td>\n",
       "      <td>0.45</td>\n",
       "      <td>2.05</td>\n",
       "      <td>11</td>\n",
       "      <td>0</td>\n",
       "      <td>0</td>\n",
       "    </tr>\n",
       "  </tbody>\n",
       "</table>\n",
       "</div>"
      ],
      "text/plain": [
       "    si_jun_excel_raw_number  growth_rate_per_hr  estim_SA_over_V  \\\n",
       "0                       202                1.71           4.3060   \n",
       "8                       241                1.51           6.0025   \n",
       "16                      300                1.03           6.2728   \n",
       "24                      328                0.65           7.7214   \n",
       "32                      343                0.36           8.2154   \n",
       "\n",
       "    estim_aspect_ratio  estim_vol_um3  estim_C_plus_D_hrs  nutrient_type  \\\n",
       "0               4.0089           3.40                1.37              7   \n",
       "8               4.6614           1.42                1.13              8   \n",
       "16              3.7971           1.04                1.10              9   \n",
       "24              4.2886           0.61                1.39             10   \n",
       "32              3.5897           0.45                2.05             11   \n",
       "\n",
       "    cm_type  useless_type  \n",
       "0         0             0  \n",
       "8         0             0  \n",
       "16        0             0  \n",
       "24        0             0  \n",
       "32        0             0  "
      ]
     },
     "execution_count": 8,
     "metadata": {},
     "output_type": "execute_result"
    }
   ],
   "source": [
    "d = raw.query('cm_type == 0')\n",
    "d.head()"
   ]
  },
  {
   "cell_type": "markdown",
   "metadata": {},
   "source": [
    "## The formula of SA/V vs r and a shows why more efficient to change r !"
   ]
  },
  {
   "cell_type": "code",
   "execution_count": 9,
   "metadata": {},
   "outputs": [],
   "source": [
    "def a_factor(a):\n",
    "    return a/(a-1/3)"
   ]
  },
  {
   "cell_type": "code",
   "execution_count": 10,
   "metadata": {},
   "outputs": [
    {
     "data": {
      "text/plain": [
       "1.05"
      ]
     },
     "execution_count": 10,
     "metadata": {},
     "output_type": "execute_result"
    }
   ],
   "source": [
    "a_factor(3)/a_factor(5)"
   ]
  },
  {
   "cell_type": "code",
   "execution_count": 11,
   "metadata": {},
   "outputs": [
    {
     "data": {
      "text/plain": [
       "1.0714285714285714"
      ]
     },
     "execution_count": 11,
     "metadata": {},
     "output_type": "execute_result"
    }
   ],
   "source": [
    "a_factor(5)"
   ]
  },
  {
   "cell_type": "markdown",
   "metadata": {},
   "source": [
    "## Basan data: r or a is changing V ?"
   ]
  },
  {
   "cell_type": "code",
   "execution_count": 33,
   "metadata": {},
   "outputs": [
    {
     "data": {
      "text/html": [
       "<div>\n",
       "<style scoped>\n",
       "    .dataframe tbody tr th:only-of-type {\n",
       "        vertical-align: middle;\n",
       "    }\n",
       "\n",
       "    .dataframe tbody tr th {\n",
       "        vertical-align: top;\n",
       "    }\n",
       "\n",
       "    .dataframe thead th {\n",
       "        text-align: right;\n",
       "    }\n",
       "</style>\n",
       "<table border=\"1\" class=\"dataframe\">\n",
       "  <thead>\n",
       "    <tr style=\"text-align: right;\">\n",
       "      <th></th>\n",
       "      <th>growth_rate_per_hr</th>\n",
       "      <th>avg_cell_length_um</th>\n",
       "      <th>avg_cell_width_um</th>\n",
       "      <th>estim_avg_cell_volume_um3</th>\n",
       "      <th>nutrient_type</th>\n",
       "      <th>cm_type</th>\n",
       "      <th>useless_type</th>\n",
       "      <th>aspect_ratio</th>\n",
       "    </tr>\n",
       "  </thead>\n",
       "  <tbody>\n",
       "    <tr>\n",
       "      <th>0</th>\n",
       "      <td>0.42</td>\n",
       "      <td>2.37</td>\n",
       "      <td>0.91</td>\n",
       "      <td>1.36</td>\n",
       "      <td>6</td>\n",
       "      <td>0</td>\n",
       "      <td>0</td>\n",
       "      <td>2.604396</td>\n",
       "    </tr>\n",
       "    <tr>\n",
       "      <th>1</th>\n",
       "      <td>0.47</td>\n",
       "      <td>2.51</td>\n",
       "      <td>0.98</td>\n",
       "      <td>1.67</td>\n",
       "      <td>5</td>\n",
       "      <td>0</td>\n",
       "      <td>0</td>\n",
       "      <td>2.561224</td>\n",
       "    </tr>\n",
       "    <tr>\n",
       "      <th>2</th>\n",
       "      <td>0.70</td>\n",
       "      <td>2.84</td>\n",
       "      <td>0.92</td>\n",
       "      <td>1.70</td>\n",
       "      <td>4</td>\n",
       "      <td>0</td>\n",
       "      <td>0</td>\n",
       "      <td>3.086957</td>\n",
       "    </tr>\n",
       "    <tr>\n",
       "      <th>3</th>\n",
       "      <td>0.98</td>\n",
       "      <td>2.95</td>\n",
       "      <td>1.07</td>\n",
       "      <td>2.32</td>\n",
       "      <td>3</td>\n",
       "      <td>0</td>\n",
       "      <td>0</td>\n",
       "      <td>2.757009</td>\n",
       "    </tr>\n",
       "    <tr>\n",
       "      <th>4</th>\n",
       "      <td>1.29</td>\n",
       "      <td>3.29</td>\n",
       "      <td>1.21</td>\n",
       "      <td>3.33</td>\n",
       "      <td>2</td>\n",
       "      <td>0</td>\n",
       "      <td>0</td>\n",
       "      <td>2.719008</td>\n",
       "    </tr>\n",
       "  </tbody>\n",
       "</table>\n",
       "</div>"
      ],
      "text/plain": [
       "   growth_rate_per_hr  avg_cell_length_um  avg_cell_width_um  \\\n",
       "0                0.42                2.37               0.91   \n",
       "1                0.47                2.51               0.98   \n",
       "2                0.70                2.84               0.92   \n",
       "3                0.98                2.95               1.07   \n",
       "4                1.29                3.29               1.21   \n",
       "\n",
       "   estim_avg_cell_volume_um3  nutrient_type  cm_type  useless_type  \\\n",
       "0                       1.36              6        0             0   \n",
       "1                       1.67              5        0             0   \n",
       "2                       1.70              4        0             0   \n",
       "3                       2.32              3        0             0   \n",
       "4                       3.33              2        0             0   \n",
       "\n",
       "   aspect_ratio  \n",
       "0      2.604396  \n",
       "1      2.561224  \n",
       "2      3.086957  \n",
       "3      2.757009  \n",
       "4      2.719008  "
      ]
     },
     "execution_count": 33,
     "metadata": {},
     "output_type": "execute_result"
    }
   ],
   "source": [
    "bas_raw = pd.read_csv('../external-data/basan_2015_data.csv')\n",
    "bas_raw['aspect_ratio'] = bas_raw['avg_cell_length_um']/bas_raw['avg_cell_width_um']\n",
    "bas_raw.head()"
   ]
  },
  {
   "cell_type": "code",
   "execution_count": 47,
   "metadata": {},
   "outputs": [
    {
     "data": {
      "text/html": [
       "<div>\n",
       "<style scoped>\n",
       "    .dataframe tbody tr th:only-of-type {\n",
       "        vertical-align: middle;\n",
       "    }\n",
       "\n",
       "    .dataframe tbody tr th {\n",
       "        vertical-align: top;\n",
       "    }\n",
       "\n",
       "    .dataframe thead th {\n",
       "        text-align: right;\n",
       "    }\n",
       "</style>\n",
       "<table border=\"1\" class=\"dataframe\">\n",
       "  <thead>\n",
       "    <tr style=\"text-align: right;\">\n",
       "      <th></th>\n",
       "      <th>growth_rate_per_hr</th>\n",
       "      <th>avg_cell_length_um</th>\n",
       "      <th>avg_cell_width_um</th>\n",
       "      <th>estim_avg_cell_volume_um3</th>\n",
       "      <th>nutrient_type</th>\n",
       "      <th>cm_type</th>\n",
       "      <th>useless_type</th>\n",
       "      <th>aspect_ratio</th>\n",
       "    </tr>\n",
       "  </thead>\n",
       "  <tbody>\n",
       "    <tr>\n",
       "      <th>3</th>\n",
       "      <td>0.98</td>\n",
       "      <td>2.95</td>\n",
       "      <td>1.07</td>\n",
       "      <td>2.32</td>\n",
       "      <td>3</td>\n",
       "      <td>0</td>\n",
       "      <td>0</td>\n",
       "      <td>2.757009</td>\n",
       "    </tr>\n",
       "    <tr>\n",
       "      <th>10</th>\n",
       "      <td>0.88</td>\n",
       "      <td>3.15</td>\n",
       "      <td>1.10</td>\n",
       "      <td>2.67</td>\n",
       "      <td>3</td>\n",
       "      <td>0</td>\n",
       "      <td>1</td>\n",
       "      <td>2.863636</td>\n",
       "    </tr>\n",
       "    <tr>\n",
       "      <th>11</th>\n",
       "      <td>0.73</td>\n",
       "      <td>3.15</td>\n",
       "      <td>1.13</td>\n",
       "      <td>2.79</td>\n",
       "      <td>3</td>\n",
       "      <td>0</td>\n",
       "      <td>1</td>\n",
       "      <td>2.787611</td>\n",
       "    </tr>\n",
       "    <tr>\n",
       "      <th>12</th>\n",
       "      <td>0.61</td>\n",
       "      <td>3.47</td>\n",
       "      <td>1.15</td>\n",
       "      <td>3.22</td>\n",
       "      <td>3</td>\n",
       "      <td>0</td>\n",
       "      <td>1</td>\n",
       "      <td>3.017391</td>\n",
       "    </tr>\n",
       "    <tr>\n",
       "      <th>13</th>\n",
       "      <td>0.40</td>\n",
       "      <td>4.89</td>\n",
       "      <td>1.23</td>\n",
       "      <td>5.39</td>\n",
       "      <td>3</td>\n",
       "      <td>0</td>\n",
       "      <td>1</td>\n",
       "      <td>3.975610</td>\n",
       "    </tr>\n",
       "  </tbody>\n",
       "</table>\n",
       "</div>"
      ],
      "text/plain": [
       "    growth_rate_per_hr  avg_cell_length_um  avg_cell_width_um  \\\n",
       "3                 0.98                2.95               1.07   \n",
       "10                0.88                3.15               1.10   \n",
       "11                0.73                3.15               1.13   \n",
       "12                0.61                3.47               1.15   \n",
       "13                0.40                4.89               1.23   \n",
       "\n",
       "    estim_avg_cell_volume_um3  nutrient_type  cm_type  useless_type  \\\n",
       "3                        2.32              3        0             0   \n",
       "10                       2.67              3        0             1   \n",
       "11                       2.79              3        0             1   \n",
       "12                       3.22              3        0             1   \n",
       "13                       5.39              3        0             1   \n",
       "\n",
       "    aspect_ratio  \n",
       "3       2.757009  \n",
       "10      2.863636  \n",
       "11      2.787611  \n",
       "12      3.017391  \n",
       "13      3.975610  "
      ]
     },
     "execution_count": 47,
     "metadata": {},
     "output_type": "execute_result"
    }
   ],
   "source": [
    "bas_raw_us = bas_raw.query('cm_type == 0').query('nutrient_type == 3')\n",
    "bas_raw_cm = bas_raw.query('useless_type == 0').query('nutrient_type == 3')\n",
    "bas_raw_us.head()"
   ]
  },
  {
   "cell_type": "code",
   "execution_count": 48,
   "metadata": {},
   "outputs": [
    {
     "data": {
      "text/plain": [
       "[<matplotlib.lines.Line2D at 0x2c7e27f32e8>]"
      ]
     },
     "execution_count": 48,
     "metadata": {},
     "output_type": "execute_result"
    },
    {
     "data": {
      "image/png": "[encoded data removed]",
      "text/plain": [
       "<Figure size 432x288 with 1 Axes>"
      ]
     },
     "metadata": {
      "needs_background": "light"
     },
     "output_type": "display_data"
    }
   ],
   "source": [
    "plt.plot(bas_raw_us['growth_rate_per_hr'], bas_raw_us['avg_cell_width_um'], 'ro')\n",
    "plt.plot(bas_raw_cm['growth_rate_per_hr'], bas_raw_cm['avg_cell_width_um'], 'bo')"
   ]
  },
  {
   "cell_type": "code",
   "execution_count": 49,
   "metadata": {},
   "outputs": [
    {
     "data": {
      "text/plain": [
       "[<matplotlib.lines.Line2D at 0x2c7e284d748>]"
      ]
     },
     "execution_count": 49,
     "metadata": {},
     "output_type": "execute_result"
    },
    {
     "data": {
      "image/png": "[encoded data removed]",
      "text/plain": [
       "<Figure size 432x288 with 1 Axes>"
      ]
     },
     "metadata": {
      "needs_background": "light"
     },
     "output_type": "display_data"
    }
   ],
   "source": [
    "plt.plot(bas_raw_us['growth_rate_per_hr'], bas_raw_us['avg_cell_length_um'], 'ro')\n",
    "plt.plot(bas_raw_cm['growth_rate_per_hr'], bas_raw_cm['avg_cell_length_um'], 'bo')"
   ]
  },
  {
   "cell_type": "code",
   "execution_count": 37,
   "metadata": {},
   "outputs": [
    {
     "data": {
      "text/plain": [
       "[<matplotlib.lines.Line2D at 0x2c7e25ab588>]"
      ]
     },
     "execution_count": 37,
     "metadata": {},
     "output_type": "execute_result"
    },
    {
     "data": {
      "image/png": "[encoded data removed]",
      "text/plain": [
       "<Figure size 432x288 with 1 Axes>"
      ]
     },
     "metadata": {
      "needs_background": "light"
     },
     "output_type": "display_data"
    }
   ],
   "source": [
    "plt.plot(bas_raw_us['growth_rate_per_hr'], \n",
    "         bas_raw_us['aspect_ratio'], 'ro')"
   ]
  },
  {
   "cell_type": "code",
   "execution_count": 38,
   "metadata": {},
   "outputs": [
    {
     "data": {
      "text/plain": [
       "[<matplotlib.lines.Line2D at 0x2c7e25ed860>]"
      ]
     },
     "execution_count": 38,
     "metadata": {},
     "output_type": "execute_result"
    },
    {
     "data": {
      "image/png": "[encoded data removed]",
      "text/plain": [
       "<Figure size 432x288 with 1 Axes>"
      ]
     },
     "metadata": {
      "needs_background": "light"
     },
     "output_type": "display_data"
    }
   ],
   "source": [
    "plt.plot(bas_raw_us['growth_rate_per_hr'], \n",
    "         bas_raw_us['avg_cell_width_um']**3, 'ro')"
   ]
  },
  {
   "cell_type": "code",
   "execution_count": 39,
   "metadata": {},
   "outputs": [
    {
     "data": {
      "text/plain": [
       "[<matplotlib.lines.Line2D at 0x2c7e2631518>]"
      ]
     },
     "execution_count": 39,
     "metadata": {},
     "output_type": "execute_result"
    },
    {
     "data": {
      "image/png": "[encoded data removed]",
      "text/plain": [
       "<Figure size 432x288 with 1 Axes>"
      ]
     },
     "metadata": {
      "needs_background": "light"
     },
     "output_type": "display_data"
    }
   ],
   "source": [
    "plt.plot(bas_raw_us['growth_rate_per_hr'], \n",
    "         bas_raw_us['avg_cell_length_um']/bas_raw_us['avg_cell_width_um'] - 1/3, 'ro')"
   ]
  },
  {
   "cell_type": "code",
   "execution_count": 25,
   "metadata": {},
   "outputs": [
    {
     "data": {
      "text/plain": [
       "1.7500000000000002"
      ]
     },
     "execution_count": 25,
     "metadata": {},
     "output_type": "execute_result"
    }
   ],
   "source": [
    "2.1/1.2"
   ]
  },
  {
   "cell_type": "code",
   "execution_count": 26,
   "metadata": {},
   "outputs": [
    {
     "data": {
      "text/plain": [
       "1.7916666666666667"
      ]
     },
     "execution_count": 26,
     "metadata": {},
     "output_type": "execute_result"
    }
   ],
   "source": [
    "4.3/2.4"
   ]
  },
  {
   "cell_type": "code",
   "execution_count": 44,
   "metadata": {},
   "outputs": [
    {
     "data": {
      "text/plain": [
       "<matplotlib.axes._subplots.AxesSubplot at 0x2c7e2775c50>"
      ]
     },
     "execution_count": 44,
     "metadata": {},
     "output_type": "execute_result"
    },
    {
     "data": {
      "image/png": "[encoded data removed]",
      "text/plain": [
       "<Figure size 432x288 with 1 Axes>"
      ]
     },
     "metadata": {
      "needs_background": "light"
     },
     "output_type": "display_data"
    }
   ],
   "source": [
    "sns.scatterplot(data=bas_raw, \n",
    "                x='avg_cell_width_um', \n",
    "                y='estim_avg_cell_volume_um3',\n",
    "                hue='nutrient_type')"
   ]
  },
  {
   "cell_type": "code",
   "execution_count": 45,
   "metadata": {},
   "outputs": [
    {
     "data": {
      "text/html": [
       "<div>\n",
       "<style scoped>\n",
       "    .dataframe tbody tr th:only-of-type {\n",
       "        vertical-align: middle;\n",
       "    }\n",
       "\n",
       "    .dataframe tbody tr th {\n",
       "        vertical-align: top;\n",
       "    }\n",
       "\n",
       "    .dataframe thead th {\n",
       "        text-align: right;\n",
       "    }\n",
       "</style>\n",
       "<table border=\"1\" class=\"dataframe\">\n",
       "  <thead>\n",
       "    <tr style=\"text-align: right;\">\n",
       "      <th></th>\n",
       "      <th>growth_rate_per_hr</th>\n",
       "      <th>avg_cell_length_um</th>\n",
       "      <th>avg_cell_width_um</th>\n",
       "      <th>estim_avg_cell_volume_um3</th>\n",
       "      <th>nutrient_type</th>\n",
       "      <th>cm_type</th>\n",
       "      <th>useless_type</th>\n",
       "      <th>aspect_ratio</th>\n",
       "    </tr>\n",
       "  </thead>\n",
       "  <tbody>\n",
       "    <tr>\n",
       "      <th>0</th>\n",
       "      <td>0.42</td>\n",
       "      <td>2.37</td>\n",
       "      <td>0.91</td>\n",
       "      <td>1.36</td>\n",
       "      <td>6</td>\n",
       "      <td>0</td>\n",
       "      <td>0</td>\n",
       "      <td>2.604396</td>\n",
       "    </tr>\n",
       "    <tr>\n",
       "      <th>1</th>\n",
       "      <td>0.47</td>\n",
       "      <td>2.51</td>\n",
       "      <td>0.98</td>\n",
       "      <td>1.67</td>\n",
       "      <td>5</td>\n",
       "      <td>0</td>\n",
       "      <td>0</td>\n",
       "      <td>2.561224</td>\n",
       "    </tr>\n",
       "    <tr>\n",
       "      <th>2</th>\n",
       "      <td>0.70</td>\n",
       "      <td>2.84</td>\n",
       "      <td>0.92</td>\n",
       "      <td>1.70</td>\n",
       "      <td>4</td>\n",
       "      <td>0</td>\n",
       "      <td>0</td>\n",
       "      <td>3.086957</td>\n",
       "    </tr>\n",
       "    <tr>\n",
       "      <th>3</th>\n",
       "      <td>0.98</td>\n",
       "      <td>2.95</td>\n",
       "      <td>1.07</td>\n",
       "      <td>2.32</td>\n",
       "      <td>3</td>\n",
       "      <td>0</td>\n",
       "      <td>0</td>\n",
       "      <td>2.757009</td>\n",
       "    </tr>\n",
       "    <tr>\n",
       "      <th>4</th>\n",
       "      <td>1.29</td>\n",
       "      <td>3.29</td>\n",
       "      <td>1.21</td>\n",
       "      <td>3.33</td>\n",
       "      <td>2</td>\n",
       "      <td>0</td>\n",
       "      <td>0</td>\n",
       "      <td>2.719008</td>\n",
       "    </tr>\n",
       "    <tr>\n",
       "      <th>5</th>\n",
       "      <td>1.83</td>\n",
       "      <td>4.94</td>\n",
       "      <td>1.36</td>\n",
       "      <td>6.60</td>\n",
       "      <td>1</td>\n",
       "      <td>0</td>\n",
       "      <td>0</td>\n",
       "      <td>3.632353</td>\n",
       "    </tr>\n",
       "    <tr>\n",
       "      <th>6</th>\n",
       "      <td>0.74</td>\n",
       "      <td>2.72</td>\n",
       "      <td>1.11</td>\n",
       "      <td>2.28</td>\n",
       "      <td>3</td>\n",
       "      <td>1</td>\n",
       "      <td>0</td>\n",
       "      <td>2.450450</td>\n",
       "    </tr>\n",
       "    <tr>\n",
       "      <th>7</th>\n",
       "      <td>0.55</td>\n",
       "      <td>2.74</td>\n",
       "      <td>1.09</td>\n",
       "      <td>2.23</td>\n",
       "      <td>3</td>\n",
       "      <td>1</td>\n",
       "      <td>0</td>\n",
       "      <td>2.513761</td>\n",
       "    </tr>\n",
       "    <tr>\n",
       "      <th>8</th>\n",
       "      <td>0.45</td>\n",
       "      <td>2.88</td>\n",
       "      <td>1.11</td>\n",
       "      <td>2.42</td>\n",
       "      <td>3</td>\n",
       "      <td>1</td>\n",
       "      <td>0</td>\n",
       "      <td>2.594595</td>\n",
       "    </tr>\n",
       "    <tr>\n",
       "      <th>9</th>\n",
       "      <td>0.30</td>\n",
       "      <td>3.00</td>\n",
       "      <td>1.08</td>\n",
       "      <td>2.44</td>\n",
       "      <td>3</td>\n",
       "      <td>1</td>\n",
       "      <td>0</td>\n",
       "      <td>2.777778</td>\n",
       "    </tr>\n",
       "    <tr>\n",
       "      <th>10</th>\n",
       "      <td>0.88</td>\n",
       "      <td>3.15</td>\n",
       "      <td>1.10</td>\n",
       "      <td>2.67</td>\n",
       "      <td>3</td>\n",
       "      <td>0</td>\n",
       "      <td>1</td>\n",
       "      <td>2.863636</td>\n",
       "    </tr>\n",
       "    <tr>\n",
       "      <th>11</th>\n",
       "      <td>0.73</td>\n",
       "      <td>3.15</td>\n",
       "      <td>1.13</td>\n",
       "      <td>2.79</td>\n",
       "      <td>3</td>\n",
       "      <td>0</td>\n",
       "      <td>1</td>\n",
       "      <td>2.787611</td>\n",
       "    </tr>\n",
       "    <tr>\n",
       "      <th>12</th>\n",
       "      <td>0.61</td>\n",
       "      <td>3.47</td>\n",
       "      <td>1.15</td>\n",
       "      <td>3.22</td>\n",
       "      <td>3</td>\n",
       "      <td>0</td>\n",
       "      <td>1</td>\n",
       "      <td>3.017391</td>\n",
       "    </tr>\n",
       "    <tr>\n",
       "      <th>13</th>\n",
       "      <td>0.40</td>\n",
       "      <td>4.89</td>\n",
       "      <td>1.23</td>\n",
       "      <td>5.39</td>\n",
       "      <td>3</td>\n",
       "      <td>0</td>\n",
       "      <td>1</td>\n",
       "      <td>3.975610</td>\n",
       "    </tr>\n",
       "    <tr>\n",
       "      <th>14</th>\n",
       "      <td>0.24</td>\n",
       "      <td>5.92</td>\n",
       "      <td>1.27</td>\n",
       "      <td>7.13</td>\n",
       "      <td>3</td>\n",
       "      <td>0</td>\n",
       "      <td>1</td>\n",
       "      <td>4.661417</td>\n",
       "    </tr>\n",
       "    <tr>\n",
       "      <th>15</th>\n",
       "      <td>1.12</td>\n",
       "      <td>3.11</td>\n",
       "      <td>1.21</td>\n",
       "      <td>3.11</td>\n",
       "      <td>2</td>\n",
       "      <td>0</td>\n",
       "      <td>1</td>\n",
       "      <td>2.570248</td>\n",
       "    </tr>\n",
       "    <tr>\n",
       "      <th>16</th>\n",
       "      <td>0.95</td>\n",
       "      <td>3.13</td>\n",
       "      <td>1.22</td>\n",
       "      <td>3.23</td>\n",
       "      <td>2</td>\n",
       "      <td>0</td>\n",
       "      <td>1</td>\n",
       "      <td>2.565574</td>\n",
       "    </tr>\n",
       "    <tr>\n",
       "      <th>17</th>\n",
       "      <td>0.84</td>\n",
       "      <td>3.27</td>\n",
       "      <td>1.24</td>\n",
       "      <td>3.52</td>\n",
       "      <td>2</td>\n",
       "      <td>0</td>\n",
       "      <td>1</td>\n",
       "      <td>2.637097</td>\n",
       "    </tr>\n",
       "    <tr>\n",
       "      <th>18</th>\n",
       "      <td>0.65</td>\n",
       "      <td>3.51</td>\n",
       "      <td>1.32</td>\n",
       "      <td>4.24</td>\n",
       "      <td>2</td>\n",
       "      <td>0</td>\n",
       "      <td>1</td>\n",
       "      <td>2.659091</td>\n",
       "    </tr>\n",
       "    <tr>\n",
       "      <th>19</th>\n",
       "      <td>0.52</td>\n",
       "      <td>4.66</td>\n",
       "      <td>1.34</td>\n",
       "      <td>6.05</td>\n",
       "      <td>2</td>\n",
       "      <td>0</td>\n",
       "      <td>1</td>\n",
       "      <td>3.477612</td>\n",
       "    </tr>\n",
       "    <tr>\n",
       "      <th>20</th>\n",
       "      <td>0.42</td>\n",
       "      <td>5.76</td>\n",
       "      <td>1.36</td>\n",
       "      <td>7.61</td>\n",
       "      <td>2</td>\n",
       "      <td>0</td>\n",
       "      <td>1</td>\n",
       "      <td>4.235294</td>\n",
       "    </tr>\n",
       "  </tbody>\n",
       "</table>\n",
       "</div>"
      ],
      "text/plain": [
       "    growth_rate_per_hr  avg_cell_length_um  avg_cell_width_um  \\\n",
       "0                 0.42                2.37               0.91   \n",
       "1                 0.47                2.51               0.98   \n",
       "2                 0.70                2.84               0.92   \n",
       "3                 0.98                2.95               1.07   \n",
       "4                 1.29                3.29               1.21   \n",
       "5                 1.83                4.94               1.36   \n",
       "6                 0.74                2.72               1.11   \n",
       "7                 0.55                2.74               1.09   \n",
       "8                 0.45                2.88               1.11   \n",
       "9                 0.30                3.00               1.08   \n",
       "10                0.88                3.15               1.10   \n",
       "11                0.73                3.15               1.13   \n",
       "12                0.61                3.47               1.15   \n",
       "13                0.40                4.89               1.23   \n",
       "14                0.24                5.92               1.27   \n",
       "15                1.12                3.11               1.21   \n",
       "16                0.95                3.13               1.22   \n",
       "17                0.84                3.27               1.24   \n",
       "18                0.65                3.51               1.32   \n",
       "19                0.52                4.66               1.34   \n",
       "20                0.42                5.76               1.36   \n",
       "\n",
       "    estim_avg_cell_volume_um3  nutrient_type  cm_type  useless_type  \\\n",
       "0                        1.36              6        0             0   \n",
       "1                        1.67              5        0             0   \n",
       "2                        1.70              4        0             0   \n",
       "3                        2.32              3        0             0   \n",
       "4                        3.33              2        0             0   \n",
       "5                        6.60              1        0             0   \n",
       "6                        2.28              3        1             0   \n",
       "7                        2.23              3        1             0   \n",
       "8                        2.42              3        1             0   \n",
       "9                        2.44              3        1             0   \n",
       "10                       2.67              3        0             1   \n",
       "11                       2.79              3        0             1   \n",
       "12                       3.22              3        0             1   \n",
       "13                       5.39              3        0             1   \n",
       "14                       7.13              3        0             1   \n",
       "15                       3.11              2        0             1   \n",
       "16                       3.23              2        0             1   \n",
       "17                       3.52              2        0             1   \n",
       "18                       4.24              2        0             1   \n",
       "19                       6.05              2        0             1   \n",
       "20                       7.61              2        0             1   \n",
       "\n",
       "    aspect_ratio  \n",
       "0       2.604396  \n",
       "1       2.561224  \n",
       "2       3.086957  \n",
       "3       2.757009  \n",
       "4       2.719008  \n",
       "5       3.632353  \n",
       "6       2.450450  \n",
       "7       2.513761  \n",
       "8       2.594595  \n",
       "9       2.777778  \n",
       "10      2.863636  \n",
       "11      2.787611  \n",
       "12      3.017391  \n",
       "13      3.975610  \n",
       "14      4.661417  \n",
       "15      2.570248  \n",
       "16      2.565574  \n",
       "17      2.637097  \n",
       "18      2.659091  \n",
       "19      3.477612  \n",
       "20      4.235294  "
      ]
     },
     "execution_count": 45,
     "metadata": {},
     "output_type": "execute_result"
    }
   ],
   "source": [
    "bas_raw"
   ]
  },
  {
   "cell_type": "code",
   "execution_count": null,
   "metadata": {},
   "outputs": [],
   "source": []
  }
 ],
 "metadata": {
  "kernelspec": {
   "display_name": "Python 3",
   "language": "python",
   "name": "python3"
  },
  "language_info": {
   "codemirror_mode": {
    "name": "ipython",
    "version": 3
   },
   "file_extension": ".py",
   "mimetype": "text/x-python",
   "name": "python",
   "nbconvert_exporter": "python",
   "pygments_lexer": "ipython3",
   "version": "3.7.3"
  }
 },
 "nbformat": 4,
 "nbformat_minor": 2
}
