{
 "cells": [
  {
   "cell_type": "code",
   "execution_count": 1,
   "metadata": {},
   "outputs": [],
   "source": [
    "import pandas as pd\n",
    "import seaborn as sns\n",
    "import numpy as np\n",
    "from sklearn.linear_model import LinearRegression\n",
    "import matplotlib.pyplot as plt"
   ]
  },
  {
   "cell_type": "code",
   "execution_count": 2,
   "metadata": {},
   "outputs": [
    {
     "data": {
      "text/html": [
       "<div>\n",
       "<style scoped>\n",
       "    .dataframe tbody tr th:only-of-type {\n",
       "        vertical-align: middle;\n",
       "    }\n",
       "\n",
       "    .dataframe tbody tr th {\n",
       "        vertical-align: top;\n",
       "    }\n",
       "\n",
       "    .dataframe thead th {\n",
       "        text-align: right;\n",
       "    }\n",
       "</style>\n",
       "<table border=\"1\" class=\"dataframe\">\n",
       "  <thead>\n",
       "    <tr style=\"text-align: right;\">\n",
       "      <th></th>\n",
       "      <th>si_jun_excel_raw_number</th>\n",
       "      <th>growth_rate_per_hr</th>\n",
       "      <th>estim_SA_over_V</th>\n",
       "      <th>estim_aspect_ratio</th>\n",
       "      <th>estim_vol_um3</th>\n",
       "      <th>estim_C_plus_D_hrs</th>\n",
       "      <th>nutrient_type</th>\n",
       "      <th>cm_type</th>\n",
       "      <th>useless_type</th>\n",
       "      <th>width_um</th>\n",
       "      <th>length_um</th>\n",
       "    </tr>\n",
       "  </thead>\n",
       "  <tbody>\n",
       "    <tr>\n",
       "      <th>0</th>\n",
       "      <td>202</td>\n",
       "      <td>1.71</td>\n",
       "      <td>4.306</td>\n",
       "      <td>4.0089</td>\n",
       "      <td>3.40</td>\n",
       "      <td>1.37</td>\n",
       "      <td>7</td>\n",
       "      <td>0</td>\n",
       "      <td>0</td>\n",
       "      <td>0.94542</td>\n",
       "      <td>3.8860</td>\n",
       "    </tr>\n",
       "    <tr>\n",
       "      <th>1</th>\n",
       "      <td>203</td>\n",
       "      <td>1.63</td>\n",
       "      <td>4.473</td>\n",
       "      <td>3.9774</td>\n",
       "      <td>3.00</td>\n",
       "      <td>1.35</td>\n",
       "      <td>7</td>\n",
       "      <td>1</td>\n",
       "      <td>0</td>\n",
       "      <td>0.90573</td>\n",
       "      <td>3.6082</td>\n",
       "    </tr>\n",
       "    <tr>\n",
       "      <th>2</th>\n",
       "      <td>204</td>\n",
       "      <td>0.98</td>\n",
       "      <td>4.870</td>\n",
       "      <td>4.1282</td>\n",
       "      <td>2.39</td>\n",
       "      <td>1.88</td>\n",
       "      <td>7</td>\n",
       "      <td>1</td>\n",
       "      <td>0</td>\n",
       "      <td>0.92187</td>\n",
       "      <td>3.3043</td>\n",
       "    </tr>\n",
       "    <tr>\n",
       "      <th>3</th>\n",
       "      <td>205</td>\n",
       "      <td>0.96</td>\n",
       "      <td>5.107</td>\n",
       "      <td>4.0063</td>\n",
       "      <td>2.02</td>\n",
       "      <td>2.05</td>\n",
       "      <td>7</td>\n",
       "      <td>1</td>\n",
       "      <td>0</td>\n",
       "      <td>0.99688</td>\n",
       "      <td>4.1663</td>\n",
       "    </tr>\n",
       "    <tr>\n",
       "      <th>4</th>\n",
       "      <td>206</td>\n",
       "      <td>0.78</td>\n",
       "      <td>5.111</td>\n",
       "      <td>3.6121</td>\n",
       "      <td>1.89</td>\n",
       "      <td>2.48</td>\n",
       "      <td>7</td>\n",
       "      <td>1</td>\n",
       "      <td>0</td>\n",
       "      <td>1.10620</td>\n",
       "      <td>3.9563</td>\n",
       "    </tr>\n",
       "  </tbody>\n",
       "</table>\n",
       "</div>"
      ],
      "text/plain": [
       "   si_jun_excel_raw_number  growth_rate_per_hr  estim_SA_over_V  \\\n",
       "0                      202                1.71            4.306   \n",
       "1                      203                1.63            4.473   \n",
       "2                      204                0.98            4.870   \n",
       "3                      205                0.96            5.107   \n",
       "4                      206                0.78            5.111   \n",
       "\n",
       "   estim_aspect_ratio  estim_vol_um3  estim_C_plus_D_hrs  nutrient_type  \\\n",
       "0              4.0089           3.40                1.37              7   \n",
       "1              3.9774           3.00                1.35              7   \n",
       "2              4.1282           2.39                1.88              7   \n",
       "3              4.0063           2.02                2.05              7   \n",
       "4              3.6121           1.89                2.48              7   \n",
       "\n",
       "   cm_type  useless_type  width_um  length_um  \n",
       "0        0             0   0.94542     3.8860  \n",
       "1        1             0   0.90573     3.6082  \n",
       "2        1             0   0.92187     3.3043  \n",
       "3        1             0   0.99688     4.1663  \n",
       "4        1             0   1.10620     3.9563  "
      ]
     },
     "execution_count": 2,
     "metadata": {},
     "output_type": "execute_result"
    }
   ],
   "source": [
    "si = pd.read_csv('../external-data/si_2017_data.csv')\n",
    "raw_si = pd.read_excel('/Users/inbio/Google Drive/work/to-sort/papers-data/Si-Jun-raw-data.xlsx', \n",
    "                        sheet_name='Data')\n",
    "raw_si_select = raw_si.iloc[si['si_jun_excel_raw_number']].copy()\n",
    "si['width_um'] = np.array(raw_si_select['cel width (μm)'])\n",
    "si['length_um'] = np.array(raw_si_select['cel length (μm)'])\n",
    "si.head()"
   ]
  },
  {
   "cell_type": "code",
   "execution_count": 3,
   "metadata": {},
   "outputs": [
    {
     "data": {
      "text/html": [
       "<div>\n",
       "<style scoped>\n",
       "    .dataframe tbody tr th:only-of-type {\n",
       "        vertical-align: middle;\n",
       "    }\n",
       "\n",
       "    .dataframe tbody tr th {\n",
       "        vertical-align: top;\n",
       "    }\n",
       "\n",
       "    .dataframe thead th {\n",
       "        text-align: right;\n",
       "    }\n",
       "</style>\n",
       "<table border=\"1\" class=\"dataframe\">\n",
       "  <thead>\n",
       "    <tr style=\"text-align: right;\">\n",
       "      <th></th>\n",
       "      <th>growth_rate_per_hr</th>\n",
       "      <th>avg_cell_length_um</th>\n",
       "      <th>avg_cell_width_um</th>\n",
       "      <th>estim_avg_cell_volume_um3</th>\n",
       "      <th>nutrient_type</th>\n",
       "      <th>cm_type</th>\n",
       "      <th>useless_type</th>\n",
       "    </tr>\n",
       "  </thead>\n",
       "  <tbody>\n",
       "    <tr>\n",
       "      <th>0</th>\n",
       "      <td>0.42</td>\n",
       "      <td>2.37</td>\n",
       "      <td>0.91</td>\n",
       "      <td>1.36</td>\n",
       "      <td>6</td>\n",
       "      <td>0</td>\n",
       "      <td>0</td>\n",
       "    </tr>\n",
       "    <tr>\n",
       "      <th>1</th>\n",
       "      <td>0.47</td>\n",
       "      <td>2.51</td>\n",
       "      <td>0.98</td>\n",
       "      <td>1.67</td>\n",
       "      <td>5</td>\n",
       "      <td>0</td>\n",
       "      <td>0</td>\n",
       "    </tr>\n",
       "    <tr>\n",
       "      <th>2</th>\n",
       "      <td>0.70</td>\n",
       "      <td>2.84</td>\n",
       "      <td>0.92</td>\n",
       "      <td>1.70</td>\n",
       "      <td>4</td>\n",
       "      <td>0</td>\n",
       "      <td>0</td>\n",
       "    </tr>\n",
       "    <tr>\n",
       "      <th>3</th>\n",
       "      <td>0.98</td>\n",
       "      <td>2.95</td>\n",
       "      <td>1.07</td>\n",
       "      <td>2.32</td>\n",
       "      <td>3</td>\n",
       "      <td>0</td>\n",
       "      <td>0</td>\n",
       "    </tr>\n",
       "    <tr>\n",
       "      <th>4</th>\n",
       "      <td>1.29</td>\n",
       "      <td>3.29</td>\n",
       "      <td>1.21</td>\n",
       "      <td>3.33</td>\n",
       "      <td>2</td>\n",
       "      <td>0</td>\n",
       "      <td>0</td>\n",
       "    </tr>\n",
       "  </tbody>\n",
       "</table>\n",
       "</div>"
      ],
      "text/plain": [
       "   growth_rate_per_hr  avg_cell_length_um  avg_cell_width_um  \\\n",
       "0                0.42                2.37               0.91   \n",
       "1                0.47                2.51               0.98   \n",
       "2                0.70                2.84               0.92   \n",
       "3                0.98                2.95               1.07   \n",
       "4                1.29                3.29               1.21   \n",
       "\n",
       "   estim_avg_cell_volume_um3  nutrient_type  cm_type  useless_type  \n",
       "0                       1.36              6        0             0  \n",
       "1                       1.67              5        0             0  \n",
       "2                       1.70              4        0             0  \n",
       "3                       2.32              3        0             0  \n",
       "4                       3.33              2        0             0  "
      ]
     },
     "execution_count": 3,
     "metadata": {},
     "output_type": "execute_result"
    }
   ],
   "source": [
    "bas = pd.read_csv('../external-data/basan_2015_data.csv')\n",
    "bas.head()"
   ]
  },
  {
   "cell_type": "code",
   "execution_count": 4,
   "metadata": {},
   "outputs": [],
   "source": [
    "si_nut = si.query('cm_type == 0 and useless_type == 0')\n",
    "bas_nut = bas.query('cm_type == 0 and useless_type == 0')"
   ]
  },
  {
   "cell_type": "code",
   "execution_count": 5,
   "metadata": {},
   "outputs": [
    {
     "name": "stdout",
     "output_type": "stream",
     "text": [
      "0.472303296771781 + 0.24009192322074047 * x (R2=0.8815483194642257)\n"
     ]
    }
   ],
   "source": [
    "mlr_si_width = LinearRegression()\n",
    "X_si_width = si_nut[['growth_rate_per_hr']]\n",
    "y_si_width = si_nut['width_um']\n",
    "mlr_si_width.fit(X_si_width, y_si_width)\n",
    "print('{} + {} * x (R2={})'.format(mlr_si_width.intercept_, mlr_si_width.coef_[0], \n",
    "                                   mlr_si_width.score(X_si_width,y_si_width)))"
   ]
  },
  {
   "cell_type": "code",
   "execution_count": 7,
   "metadata": {},
   "outputs": [
    {
     "name": "stdout",
     "output_type": "stream",
     "text": [
      "0.7717590833058341 + 0.31976195081985864 * x (R2=0.9374679791329004)\n"
     ]
    }
   ],
   "source": [
    "mlr_basan_width = LinearRegression()\n",
    "X_bas_width = bas_nut[['growth_rate_per_hr']]\n",
    "y_bas_width = bas_nut['avg_cell_width_um']\n",
    "mlr_basan_width.fit(X_bas_width, y_bas_width)\n",
    "print('{} + {} * x (R2={})'.format(mlr_basan_width.intercept_, mlr_basan_width.coef_[0], \n",
    "                                   mlr_basan_width.score(X_bas_width,y_bas_width)))"
   ]
  },
  {
   "cell_type": "code",
   "execution_count": 8,
   "metadata": {},
   "outputs": [
    {
     "name": "stdout",
     "output_type": "stream",
     "text": [
      "0.14273074479090908\n",
      "1.3318313524685692\n"
     ]
    }
   ],
   "source": [
    "a0 = mlr_basan_width.intercept_ - mlr_basan_width.coef_[0] * mlr_si_width.intercept_ / mlr_si_width.coef_[0]\n",
    "a1 = mlr_basan_width.coef_[0] / mlr_si_width.coef_[0]\n",
    "def si2bas_width(y):\n",
    "    return a0 + a1*y\n",
    "print(a0)\n",
    "print(a1)"
   ]
  },
  {
   "cell_type": "code",
   "execution_count": 9,
   "metadata": {},
   "outputs": [
    {
     "data": {
      "text/plain": [
       "[<matplotlib.lines.Line2D at 0x222fa95ffd0>]"
      ]
     },
     "execution_count": 9,
     "metadata": {},
     "output_type": "execute_result"
    },
    {
     "data": {
      "image/png": "[encoded data removed]",
      "text/plain": [
       "<Figure size 432x288 with 1 Axes>"
      ]
     },
     "metadata": {
      "needs_background": "light"
     },
     "output_type": "display_data"
    }
   ],
   "source": [
    "plt.plot(si_nut.growth_rate_per_hr, si_nut.width_um, 'go')\n",
    "plt.plot(X_si_width, mlr_si_width.predict(X_si_width), '-r')\n",
    "plt.plot(bas_nut.growth_rate_per_hr, bas_nut.avg_cell_width_um, 'gs')\n",
    "plt.plot(X_bas_width, mlr_basan_width.predict(X_bas_width), '-r')\n",
    "plt.plot(X_si_width, si2bas_width(si_nut.width_um), 'g^')"
   ]
  },
  {
   "cell_type": "code",
   "execution_count": 10,
   "metadata": {},
   "outputs": [
    {
     "data": {
      "text/plain": [
       "(1, 5.5)"
      ]
     },
     "execution_count": 10,
     "metadata": {},
     "output_type": "execute_result"
    },
    {
     "data": {
      "image/png": "[encoded data removed]",
      "text/plain": [
       "<Figure size 432x288 with 1 Axes>"
      ]
     },
     "metadata": {
      "needs_background": "light"
     },
     "output_type": "display_data"
    }
   ],
   "source": [
    "si_nut = si.query('cm_type == 0 and useless_type == 0')\n",
    "bas_nut = bas.query('cm_type == 0 and useless_type == 0')\n",
    "plt.plot(si_nut.growth_rate_per_hr, si_nut.length_um+0.4, 'go')\n",
    "plt.plot(bas_nut.growth_rate_per_hr, bas_nut.avg_cell_length_um, 'gs')\n",
    "plt.ylim([1,5.5])"
   ]
  },
  {
   "cell_type": "code",
   "execution_count": 11,
   "metadata": {},
   "outputs": [
    {
     "name": "stderr",
     "output_type": "stream",
     "text": [
      "C:\\Users\\inbio\\Miniconda3\\lib\\site-packages\\ipykernel_launcher.py:10: SettingWithCopyWarning: \n",
      "A value is trying to be set on a copy of a slice from a DataFrame\n",
      "\n",
      "See the caveats in the documentation: http://pandas.pydata.org/pandas-docs/stable/indexing.html#indexing-view-versus-copy\n",
      "  # Remove the CWD from sys.path while we load stuff.\n",
      "C:\\Users\\inbio\\Miniconda3\\lib\\site-packages\\ipykernel_launcher.py:11: SettingWithCopyWarning: \n",
      "A value is trying to be set on a copy of a slice from a DataFrame\n",
      "\n",
      "See the caveats in the documentation: http://pandas.pydata.org/pandas-docs/stable/indexing.html#indexing-view-versus-copy\n",
      "  # This is added back by InteractiveShellApp.init_path()\n"
     ]
    }
   ],
   "source": [
    "norm_geom_si_basan = pd.DataFrame()\n",
    "norm_geom_si_basan['growth_rate'] = pd.concat([bas['growth_rate_per_hr'], si['growth_rate_per_hr']])\n",
    "norm_geom_si_basan['nutrient_type'] = pd.concat([bas['nutrient_type'], si['nutrient_type']])\n",
    "norm_geom_si_basan['cm_type'] = pd.concat([bas['cm_type'], si['cm_type']])\n",
    "norm_geom_si_basan['useless_type'] = pd.concat([bas['useless_type'], si['useless_type']])\n",
    "norm_geom_si_basan['length'] = pd.concat([bas['avg_cell_length_um'], si['length_um']+0.4])\n",
    "norm_geom_si_basan['width'] = pd.concat([bas['avg_cell_width_um'], si2bas_width(si['width_um'])])\n",
    "norm_geom_si_basan['aspect_ratio'] = norm_geom_si_basan['length'] / norm_geom_si_basan['width']\n",
    "norm_geom_si_basan['modulation_type'] = 'nutrient'\n",
    "norm_geom_si_basan['modulation_type'][norm_geom_si_basan['cm_type'] > 0] = 'cm'\n",
    "norm_geom_si_basan['modulation_type'][norm_geom_si_basan['useless_type'] > 0] = 'useless'\n",
    "# norm_geom_si_basan['SA_V_ratio'] = "
   ]
  },
  {
   "cell_type": "code",
   "execution_count": 12,
   "metadata": {},
   "outputs": [
    {
     "data": {
      "text/plain": [
       "<matplotlib.axes._subplots.AxesSubplot at 0x222fa513b00>"
      ]
     },
     "execution_count": 12,
     "metadata": {},
     "output_type": "execute_result"
    },
    {
     "data": {
      "image/png": "[encoded data removed]",
      "text/plain": [
       "<Figure size 432x288 with 1 Axes>"
      ]
     },
     "metadata": {
      "needs_background": "light"
     },
     "output_type": "display_data"
    }
   ],
   "source": [
    "sns.scatterplot(data=norm_geom_si_basan,\n",
    "                x='growth_rate', \n",
    "                y='aspect_ratio', \n",
    "                hue='modulation_type')"
   ]
  },
  {
   "cell_type": "code",
   "execution_count": 22,
   "metadata": {},
   "outputs": [
    {
     "data": {
      "text/plain": [
       "<matplotlib.axes._subplots.AxesSubplot at 0x222fc12ecc0>"
      ]
     },
     "execution_count": 22,
     "metadata": {},
     "output_type": "execute_result"
    },
    {
     "data": {
      "image/png": "[encoded data removed]",
      "text/plain": [
       "<Figure size 432x288 with 1 Axes>"
      ]
     },
     "metadata": {
      "needs_background": "light"
     },
     "output_type": "display_data"
    }
   ],
   "source": [
    "#plt.figure(figsize=(12,8))\n",
    "#filled_markers = ('o', 'v', '^', '<', '>', '8', 's', 'p', '*', 'h', 'H', 'D', 'd', 'P', 'X')\n",
    "sns.scatterplot(data=norm_geom_si_basan,\n",
    "                x='growth_rate', \n",
    "                y='length', \n",
    "                hue='modulation_type')#,style='nutrient_type',markers=filled_markers)"
   ]
  },
  {
   "cell_type": "code",
   "execution_count": 23,
   "metadata": {},
   "outputs": [
    {
     "data": {
      "text/plain": [
       "<matplotlib.axes._subplots.AxesSubplot at 0x222fc126be0>"
      ]
     },
     "execution_count": 23,
     "metadata": {},
     "output_type": "execute_result"
    },
    {
     "data": {
      "image/png": "[encoded data removed]",
      "text/plain": [
       "<Figure size 432x288 with 1 Axes>"
      ]
     },
     "metadata": {
      "needs_background": "light"
     },
     "output_type": "display_data"
    }
   ],
   "source": [
    "sns.scatterplot(data=norm_geom_si_basan,\n",
    "                x='growth_rate', \n",
    "                y='width', \n",
    "                hue='modulation_type')"
   ]
  },
  {
   "cell_type": "code",
   "execution_count": null,
   "metadata": {},
   "outputs": [],
   "source": []
  }
 ],
 "metadata": {
  "kernelspec": {
   "display_name": "Python 3",
   "language": "python",
   "name": "python3"
  },
  "language_info": {
   "codemirror_mode": {
    "name": "ipython",
    "version": 3
   },
   "file_extension": ".py",
   "mimetype": "text/x-python",
   "name": "python",
   "nbconvert_exporter": "python",
   "pygments_lexer": "ipython3",
   "version": "3.7.3"
  }
 },
 "nbformat": 4,
 "nbformat_minor": 2
}
