{
 "cells": [
  {
   "cell_type": "markdown",
   "metadata": {},
   "source": [
    "# Figure 2\n",
    "\n",
    "Data is a dynamic simulation trajectory (mother machine like) of the deterministic model."
   ]
  },
  {
   "cell_type": "code",
   "execution_count": 1,
   "metadata": {},
   "outputs": [],
   "source": [
    "## imports\n",
    "import pandas as pd\n",
    "import seaborn as sns\n",
    "import matplotlib.pyplot as plt"
   ]
  },
  {
   "cell_type": "code",
   "execution_count": 13,
   "metadata": {},
   "outputs": [
    {
     "data": {
      "text/html": [
       "<div>\n",
       "<style scoped>\n",
       "    .dataframe tbody tr th:only-of-type {\n",
       "        vertical-align: middle;\n",
       "    }\n",
       "\n",
       "    .dataframe tbody tr th {\n",
       "        vertical-align: top;\n",
       "    }\n",
       "\n",
       "    .dataframe thead th {\n",
       "        text-align: right;\n",
       "    }\n",
       "</style>\n",
       "<table border=\"1\" class=\"dataframe\">\n",
       "  <thead>\n",
       "    <tr style=\"text-align: right;\">\n",
       "      <th></th>\n",
       "      <th>t</th>\n",
       "      <th>A</th>\n",
       "      <th>E</th>\n",
       "      <th>R</th>\n",
       "      <th>Q</th>\n",
       "      <th>U</th>\n",
       "      <th>X</th>\n",
       "      <th>M_or_V</th>\n",
       "      <th>a</th>\n",
       "      <th>e</th>\n",
       "      <th>r</th>\n",
       "      <th>q</th>\n",
       "      <th>x</th>\n",
       "    </tr>\n",
       "  </thead>\n",
       "  <tbody>\n",
       "    <tr>\n",
       "      <th>0</th>\n",
       "      <td>0.000000</td>\n",
       "      <td>1.000000</td>\n",
       "      <td>1.000000</td>\n",
       "      <td>1.000000</td>\n",
       "      <td>1.000000</td>\n",
       "      <td>0</td>\n",
       "      <td>1.000000</td>\n",
       "      <td>5.000000</td>\n",
       "      <td>0.200000</td>\n",
       "      <td>0.200000</td>\n",
       "      <td>0.200000</td>\n",
       "      <td>0.200000</td>\n",
       "      <td>0.200000</td>\n",
       "    </tr>\n",
       "    <tr>\n",
       "      <th>1</th>\n",
       "      <td>0.000000</td>\n",
       "      <td>1.000000</td>\n",
       "      <td>1.000000</td>\n",
       "      <td>1.000000</td>\n",
       "      <td>1.000000</td>\n",
       "      <td>0</td>\n",
       "      <td>1.000000</td>\n",
       "      <td>5.000000</td>\n",
       "      <td>0.200000</td>\n",
       "      <td>0.200000</td>\n",
       "      <td>0.200000</td>\n",
       "      <td>0.200000</td>\n",
       "      <td>0.200000</td>\n",
       "    </tr>\n",
       "    <tr>\n",
       "      <th>2</th>\n",
       "      <td>0.073415</td>\n",
       "      <td>0.868529</td>\n",
       "      <td>1.120664</td>\n",
       "      <td>1.091401</td>\n",
       "      <td>1.189121</td>\n",
       "      <td>0</td>\n",
       "      <td>1.021329</td>\n",
       "      <td>5.291043</td>\n",
       "      <td>0.164151</td>\n",
       "      <td>0.211804</td>\n",
       "      <td>0.206273</td>\n",
       "      <td>0.224742</td>\n",
       "      <td>0.193030</td>\n",
       "    </tr>\n",
       "    <tr>\n",
       "      <th>3</th>\n",
       "      <td>0.181541</td>\n",
       "      <td>0.688383</td>\n",
       "      <td>1.312537</td>\n",
       "      <td>1.236741</td>\n",
       "      <td>1.489849</td>\n",
       "      <td>0</td>\n",
       "      <td>1.055244</td>\n",
       "      <td>5.782754</td>\n",
       "      <td>0.119041</td>\n",
       "      <td>0.226974</td>\n",
       "      <td>0.213867</td>\n",
       "      <td>0.257637</td>\n",
       "      <td>0.182481</td>\n",
       "    </tr>\n",
       "    <tr>\n",
       "      <th>4</th>\n",
       "      <td>0.271082</td>\n",
       "      <td>0.562089</td>\n",
       "      <td>1.482212</td>\n",
       "      <td>1.365266</td>\n",
       "      <td>1.755786</td>\n",
       "      <td>0</td>\n",
       "      <td>1.085236</td>\n",
       "      <td>6.250589</td>\n",
       "      <td>0.089926</td>\n",
       "      <td>0.237132</td>\n",
       "      <td>0.218422</td>\n",
       "      <td>0.280899</td>\n",
       "      <td>0.173621</td>\n",
       "    </tr>\n",
       "  </tbody>\n",
       "</table>\n",
       "</div>"
      ],
      "text/plain": [
       "          t         A         E         R         Q  U         X    M_or_V  \\\n",
       "0  0.000000  1.000000  1.000000  1.000000  1.000000  0  1.000000  5.000000   \n",
       "1  0.000000  1.000000  1.000000  1.000000  1.000000  0  1.000000  5.000000   \n",
       "2  0.073415  0.868529  1.120664  1.091401  1.189121  0  1.021329  5.291043   \n",
       "3  0.181541  0.688383  1.312537  1.236741  1.489849  0  1.055244  5.782754   \n",
       "4  0.271082  0.562089  1.482212  1.365266  1.755786  0  1.085236  6.250589   \n",
       "\n",
       "          a         e         r         q         x  \n",
       "0  0.200000  0.200000  0.200000  0.200000  0.200000  \n",
       "1  0.200000  0.200000  0.200000  0.200000  0.200000  \n",
       "2  0.164151  0.211804  0.206273  0.224742  0.193030  \n",
       "3  0.119041  0.226974  0.213867  0.257637  0.182481  \n",
       "4  0.089926  0.237132  0.218422  0.280899  0.173621  "
      ]
     },
     "execution_count": 13,
     "metadata": {},
     "output_type": "execute_result"
    }
   ],
   "source": [
    "## loading the data\n",
    "model_traj = pd.read_csv(filepath_or_buffer=\"../results-data/dynamic-det-model/trajectory.csv\")\n",
    "model_traj.head()"
   ]
  },
  {
   "cell_type": "code",
   "execution_count": 3,
   "metadata": {},
   "outputs": [],
   "source": [
    "# seaborn styling options\n",
    "sns.set(context=\"paper\",style=\"whitegrid\")"
   ]
  },
  {
   "cell_type": "code",
   "execution_count": 11,
   "metadata": {},
   "outputs": [
    {
     "data": {
      "text/plain": [
       "[]"
      ]
     },
     "execution_count": 11,
     "metadata": {},
     "output_type": "execute_result"
    },
    {
     "data": {
      "image/png": "[encoded data removed]",
      "text/plain": [
       "<Figure size 432x288 with 3 Axes>"
      ]
     },
     "metadata": {},
     "output_type": "display_data"
    }
   ],
   "source": [
    "# figure layout\n",
    "f = plt.figure()\n",
    "ax_size = f.add_subplot(2,2,1)\n",
    "ax_X = f.add_subplot(2,2,2)\n",
    "ax_concs = f.add_subplot(2,2,4)\n",
    "\n",
    "## plotting the size\n",
    "ax_size.plot(x=model_traj.index, y=model_traj['M_or_V'],linewidth=2.0,color='r')"
   ]
  },
  {
   "cell_type": "code",
   "execution_count": 14,
   "metadata": {},
   "outputs": [
    {
     "name": "stderr",
     "output_type": "stream",
     "text": [
      "/Users/fbertaux/miniconda3/lib/python3.6/site-packages/scipy/stats/stats.py:1713: FutureWarning: Using a non-tuple sequence for multidimensional indexing is deprecated; use `arr[tuple(seq)]` instead of `arr[seq]`. In the future this will be interpreted as an array index, `arr[np.array(seq)]`, which will result either in an error or a different result.\n",
      "  return np.add.reduce(sorted[indexer] * weights, axis=axis) / sumval\n"
     ]
    },
    {
     "data": {
      "text/plain": [
       "<matplotlib.axes._subplots.AxesSubplot at 0x1a1d374d68>"
      ]
     },
     "execution_count": 14,
     "metadata": {},
     "output_type": "execute_result"
    },
    {
     "data": {
      "image/png": "[encoded data removed]",
      "text/plain": [
       "<Figure size 432x288 with 1 Axes>"
      ]
     },
     "metadata": {},
     "output_type": "display_data"
    }
   ],
   "source": [
    "sns.lineplot(data=model_traj,x='t',y='M_or_V')"
   ]
  },
  {
   "cell_type": "code",
   "execution_count": null,
   "metadata": {},
   "outputs": [],
   "source": []
  }
 ],
 "metadata": {
  "kernelspec": {
   "display_name": "Python 3",
   "language": "python",
   "name": "python3"
  },
  "language_info": {
   "codemirror_mode": {
    "name": "ipython",
    "version": 3
   },
   "file_extension": ".py",
   "mimetype": "text/x-python",
   "name": "python",
   "nbconvert_exporter": "python",
   "pygments_lexer": "ipython3",
   "version": "3.6.5"
  }
 },
 "nbformat": 4,
 "nbformat_minor": 2
}
